{
  "cells": [
    {
      "cell_type": "markdown",
      "metadata": {},
      "source": [
        "# Python Lesson 4 Practice Assignment"
      ]
    },
    {
      "cell_type": "markdown",
      "metadata": {
        "id": "zN05IqpfJhj7"
      },
      "source": [
        "1. Create a list that contains the names of the days of the week. Using a `for` loop, print the days of the week.\n"
      ]
    },
    {
      "cell_type": "code",
      "execution_count": 1,
      "metadata": {},
      "outputs": [
        {
          "name": "stdout",
          "output_type": "stream",
          "text": [
            "Monday\n",
            "Tuesday\n",
            "Wednesday\n",
            "Thursday\n",
            "Friday\n",
            "Saturday\n",
            "Sunday\n"
          ]
        }
      ],
      "source": [
        "days_of_week = ['Monday', 'Tuesday', 'Wednesday', 'Thursday', 'Friday', 'Saturday', 'Sunday']\n",
        "for days in days_of_week:\n",
        "    print(days)"
      ]
    },
    {
      "cell_type": "markdown",
      "metadata": {},
      "source": [
        "2. Using a `for` loop and the `.iterrows` method, print the month abbreviation and average temperature in Mesa for each month in 1879 together on the same line. (Remember that the month abbreviation is now the index for the row.) To make the output clearer, print a header explaining what the columns are before you print the values."
      ]
    },
    {
      "cell_type": "code",
      "execution_count": 3,
      "metadata": {},
      "outputs": [
        {
          "name": "stdout",
          "output_type": "stream",
          "text": [
            "Month Abbreviation\tAverage Temperature\n",
            "Jan \t\t\t 12.1\n",
            "Feb \t\t\t 10.1\n",
            "Mar \t\t\t 11.8\n",
            "Apr \t\t\t 19.2\n",
            "May \t\t\t 25.0\n",
            "Jun \t\t\t 28.1\n",
            "Jul \t\t\t 32.4\n",
            "Aug \t\t\t 32.2\n",
            "Sep \t\t\t 28.2\n",
            "Oct \t\t\t 19.5\n",
            "Nov \t\t\t 14.5\n",
            "Dec \t\t\t 8.7\n"
          ]
        }
      ],
      "source": [
        "import pandas as pd\n",
        "climate = pd.read_csv('https://github.com/HeardLibrary/digital-scholarship/raw/master/data/codegraf/mesa_climate.csv')\n",
        "climate_df = pd.DataFrame(climate)\n",
        "\n",
        "print(\"Month Abbreviation\\tAverage Temperature\")\n",
        "for index, row in climate_df.iterrows():\n",
        "    print(row['month'], \"\\t\\t\\t\", row['tavg'])\n",
        "\n",
        "\n",
        "                 \n"
      ]
    },
    {
      "cell_type": "markdown",
      "metadata": {},
      "source": [
        "3. **Calculating a mean using the procedural approach.** Create a variable called `sum` and set its value to zero. Create a `for` loop that steps through each month and adds the precipitation value for each month to the `sum` variable. Recall that\n",
        "\n",
        "```\n",
        "sum += number\n",
        "```\n",
        "\n",
        "is a shortcut for\n",
        "\n",
        "```\n",
        "sum = sum + number\n",
        "```\n",
        "\n",
        "After you add up all of the values, print the value of the average precipitation for all months of the year. (Don't worry about weighting the monthly values by the length of the month.)"
      ]
    },
    {
      "cell_type": "code",
      "execution_count": 16,
      "metadata": {},
      "outputs": [
        {
          "name": "stdout",
          "output_type": "stream",
          "text": [
            "Average Precipitation: 19.041666666666668\n"
          ]
        }
      ],
      "source": [
        "sum = 0\n",
        "for index, row in climate.iterrows():\n",
        "    sum += row['ppt']\n",
        "\n",
        "average_precipitation = sum / 12\n",
        "print(\"Average Precipitation:\", average_precipitation)\n"
      ]
    },
    {
      "cell_type": "markdown",
      "metadata": {},
      "source": [
        "4. **Calculating a mean using the vectorized approach.** Because pandas is designed for vectorized operations, there is an easier way to find the average precipitation for all of the months. Simply append the `.mean()` method to the precipitation column of the DataFrame. (The mean method does not require any arguments.) Print the result. Is it the same as what you got using the `for` loop?"
      ]
    },
    {
      "cell_type": "code",
      "execution_count": 26,
      "metadata": {},
      "outputs": [
        {
          "name": "stdout",
          "output_type": "stream",
          "text": [
            "Mean Average Precipitation: ppt    19.041667\n",
            "dtype: float64\n"
          ]
        }
      ],
      "source": [
        "import pandas as pd\n",
        "avg_precip_df = pd.DataFrame(climate, columns=['ppt'])\n",
        "mean_avg_precipitation = avg_precip_df.mean()\n",
        "print(\"Mean Average Precipitation:\", mean_avg_precipitation)"
      ]
    },
    {
      "cell_type": "markdown",
      "metadata": {
        "id": "BNdYqS4jmKae"
      },
      "source": [
        "5. Yale University has an awesome website known as \"Is it chicken tenders day?\".  The website is at <http://www.isitchickentendersday.com/> and you can read about it [here](https://yaledailynews.com/blog/2011/09/08/is-it-chicken-tenders-day-question-answered-in-new-website/).  Using the website, you can determine whether it is chicken tenders day (i.e. Thursday) in the Yale residential dining halls. The `date` object from the `datetime` module has a *method* that determines the day of the week as a number (0=Monday, 1=Tuesday, etc.).  It's `date.today().weekday()`. From the `datetime` module import the `date` object. Begin your script by printing the question \"Is it chicken tenders day?\". Then use `if` and `else` to print `yes` if it's chicken tenders day and`no` for any other day."
      ]
    },
    {
      "cell_type": "code",
      "execution_count": 35,
      "metadata": {
        "id": "2DkVQ9qyl7MM"
      },
      "outputs": [
        {
          "name": "stdout",
          "output_type": "stream",
          "text": [
            "Is it chicken tenders day?!?!?!?\n",
            "No :(\n"
          ]
        }
      ],
      "source": [
        "from datetime import date\n",
        "print(\"Is it chicken tenders day?!?!?!?\")\n",
        "if date.today().weekday() == 3:\n",
        "    print(\"Yes :D\")\n",
        "else: \n",
        "    print(\"No :(\")"
      ]
    },
    {
      "cell_type": "markdown",
      "metadata": {
        "id": "Vp8JnbYGmPqK"
      },
      "source": [
        "6. Create a list containing the names of the days of the week. Start with Monday and end with Sunday to match the numbering produced by the `.weekday()` method. Modify the program above by adding a line to tell the user what the day of the week is today. You can use the output of the `.weekday()` method as the index number when referring to your list."
      ]
    },
    {
      "cell_type": "code",
      "execution_count": 43,
      "metadata": {
        "id": "aXrJZenqmXBz"
      },
      "outputs": [
        {
          "name": "stdout",
          "output_type": "stream",
          "text": [
            "Is it chicken tenders day?!?!?!?\n",
            "No, today is Monday !\n"
          ]
        }
      ],
      "source": [
        "# create a list containing the days of the week and mathc the numbering produced by the .weekday() method\n",
        "from datetime import date\n",
        "print(\"Is it chicken tenders day?!?!?!?\")\n",
        "if date.today().weekday() == 3:\n",
        "    print(\"Yes :D\")\n",
        "else: \n",
        "    print(\"No, today is\",days_of_week[date.today().weekday()],\"!\")\n"
      ]
    },
    {
      "cell_type": "markdown",
      "metadata": {
        "id": "Iom1IJr-RiC7"
      },
      "source": [
        "7. Use an input statement to let the user enter a number as a string. In a `try:` code block, convert the entered string to a floating point number using `float()`. Follow the conversion statement with a statement that prints the number. In the `except:` code block, print a warning to the user that they didn't enter a number."
      ]
    },
    {
      "cell_type": "code",
      "execution_count": 58,
      "metadata": {
        "id": "14lqPE_ARmeA"
      },
      "outputs": [
        {
          "name": "stdout",
          "output_type": "stream",
          "text": [
            "your number is 789.0\n"
          ]
        }
      ],
      "source": [
        "number_str = input(\"enter a number pls\")\n",
        "try:\n",
        "    number_ft = float(number_str)\n",
        "    print('your number is', number_ft)\n",
        "except: \n",
        "    print(\"that's not a number!\")\n"
      ]
    },
    {
      "cell_type": "markdown",
      "metadata": {
        "id": "_h3P-_z9X3MF"
      },
      "source": [
        "8. Create a Pyplot scatterplot with average precipitation on the X axis and average temperature on the Y axis. Lable the axes appropriately, including the units (mm for precipitation and degrees C for temperature)."
      ]
    },
    {
      "cell_type": "code",
      "execution_count": 64,
      "metadata": {
        "id": "pe8ZdDx4Yiye"
      },
      "outputs": [
        {
          "data": {
            "text/plain": [
              "Text(0, 0.5, 'average temperature (C)')"
            ]
          },
          "execution_count": 64,
          "metadata": {},
          "output_type": "execute_result"
        },
        {
          "data": {
            "image/png": "[encoded data removed]",
            "text/plain": [
              "<Figure size 640x480 with 1 Axes>"
            ]
          },
          "metadata": {},
          "output_type": "display_data"
        }
      ],
      "source": [
        "import matplotlib.pyplot as plt\n",
        "import pandas as pd\n",
        "climate = pd.read_csv('https://github.com/HeardLibrary/digital-scholarship/raw/master/data/codegraf/mesa_climate.csv')\n",
        "climate = climate.set_index('month')\n",
        "\n",
        "fig = plt.figure()\n",
        "ax = fig.add_subplot(1, 1, 1)\n",
        "ax.scatter(climate.ppt, climate['tavg'])\n",
        "\n",
        "ax.set_xlabel('average precipitation (mm)')\n",
        "ax.set_ylabel('average temperature (C)')"
      ]
    },
    {
      "cell_type": "markdown",
      "metadata": {
        "id": "Y7HHoASGYkCF"
      },
      "source": [
        "9. Create another scatterplot using the same variables as above, but add a first order polynomial best fit line (trendline) to the graph. Make the scatterplot markers and trendline different colors and make sure your axes are labeled."
      ]
    },
    {
      "cell_type": "code",
      "execution_count": 69,
      "metadata": {
        "id": "fOD7qMcEY8Nk"
      },
      "outputs": [
        {
          "data": {
            "text/plain": [
              "[<matplotlib.lines.Line2D at 0x297f5159eb0>]"
            ]
          },
          "execution_count": 69,
          "metadata": {},
          "output_type": "execute_result"
        },
        {
          "data": {
            "image/png": "[encoded data removed]",
            "text/plain": [
              "<Figure size 640x480 with 1 Axes>"
            ]
          },
          "metadata": {},
          "output_type": "display_data"
        }
      ],
      "source": [
        "import matplotlib.pyplot as plt\n",
        "import pandas as pd\n",
        "climate = pd.read_csv('https://github.com/HeardLibrary/digital-scholarship/raw/master/data/codegraf/mesa_climate.csv')\n",
        "climate = climate.set_index('month')\n",
        "\n",
        "fig = plt.figure()\n",
        "ax = fig.add_subplot(1, 1, 1)\n",
        "ax.scatter(climate.ppt, climate['tavg'])\n",
        "\n",
        "ax.set_xlabel('average precipitation (mm)')\n",
        "ax.set_ylabel('average temperature (C)')\n",
        "\n",
        "# add a red trendline to my graph \n",
        "import numpy as np\n",
        "m, b = np.polyfit(climate.ppt, climate['tavg'], 1)\n",
        "plt.plot(climate.ppt, m*climate.ppt + b, color='red')\n",
        "\n"
      ]
    },
    {
      "cell_type": "markdown",
      "metadata": {
        "id": "NW4_StRDY87i"
      },
      "source": [
        "10. Create a bar chart with the month abbreviation on the X axis and the average precipitation on the Y axis. Label your axes appropriately."
      ]
    },
    {
      "cell_type": "code",
      "execution_count": 75,
      "metadata": {
        "id": "z1559bdhZKux"
      },
      "outputs": [
        {
          "data": {
            "text/plain": [
              "Text(0, 0.5, 'average precipitation (mm)')"
            ]
          },
          "execution_count": 75,
          "metadata": {},
          "output_type": "execute_result"
        },
        {
          "data": {
            "image/png": "[encoded data removed]",
            "text/plain": [
              "<Figure size 640x480 with 1 Axes>"
            ]
          },
          "metadata": {},
          "output_type": "display_data"
        }
      ],
      "source": [
        "import matplotlib.pyplot as plt\n",
        "import pandas as pd\n",
        "climate = pd.read_csv('https://github.com/HeardLibrary/digital-scholarship/raw/master/data/codegraf/mesa_climate.csv')\n",
        "climate = climate.set_index('month')\n",
        "\n",
        "fig = plt.figure()\n",
        "ax = fig.add_subplot(1, 1, 1)\n",
        "ax.bar(climate.index, climate['ppt'], color= 'pink')\n",
        "\n",
        "ax.set_xlabel('month abbreviation')\n",
        "ax.set_ylabel('average precipitation (mm)')"
      ]
    }
  ],
  "metadata": {
    "colab": {
      "provenance": []
    },
    "kernelspec": {
      "display_name": "Python 3",
      "name": "python3"
    },
    "language_info": {
      "codemirror_mode": {
        "name": "ipython",
        "version": 3
      },
      "file_extension": ".py",
      "mimetype": "text/x-python",
      "name": "python",
      "nbconvert_exporter": "python",
      "pygments_lexer": "ipython3",
      "version": "3.12.2"
    }
  },
  "nbformat": 4,
  "nbformat_minor": 0
}
