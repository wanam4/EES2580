{
  "cells": [
    {
      "cell_type": "markdown",
      "metadata": {
        "id": "zN05IqpfJhj7"
      },
      "source": [
        "# Python Lesson 3 Practice Assignment"
      ]
    },
    {
      "cell_type": "markdown",
      "metadata": {
        "id": "BNdYqS4jmKae"
      },
      "source": [
        "1. Create a dictionary where the keys are the names of months and the values are the number of days in that month. Allow a user to enter the name of a month and print the number of days in that month. Create appropriate prompts and print statements so the user knows what to do and can interpret the response."
      ]
    },
    {
      "cell_type": "code",
      "execution_count": 4,
      "metadata": {
        "id": "2DkVQ9qyl7MM"
      },
      "outputs": [
        {
          "name": "stdout",
          "output_type": "stream",
          "text": [
            "Your chosen month has 28 days.\n"
          ]
        }
      ],
      "source": [
        "calendar = {'January' : 31, 'February' : 28, 'March' : 31, 'April' : 30, 'May' : 31, 'June' : 30, 'July' : 31, 'August' : 31, 'September' : 30, 'October' : 31, 'November' : 30, 'December' : 31}\n",
        "chosen_month = input('choose a month: ')\n",
        "print('Your chosen month has', calendar[chosen_month], 'days.')"
      ]
    },
    {
      "cell_type": "markdown",
      "metadata": {
        "id": "Vp8JnbYGmPqK"
      },
      "source": [
        "2. Using the statement that creates the dictionary that is a catolog of items (below), create another dictionary with exactly the same items and keys, but for which the values are prices as decimal numbers. Let the user type in a catalog number, then print the name of the item and its price. Prepend a dollar sign `$` to the price before printing, but don’t include the dollar sign in the dictionary."
      ]
    },
    {
      "cell_type": "code",
      "execution_count": 5,
      "metadata": {
        "id": "aXrJZenqmXBz"
      },
      "outputs": [
        {
          "name": "stdout",
          "output_type": "stream",
          "text": [
            "The price of poiuyt is $5.5\n"
          ]
        }
      ],
      "source": [
        "catalog = {'1008':'widget', '2149':'flange', '19x5':'smoke shifter', '992':'poiuyt'}\n",
        "Prices = {'widget': 2.25, 'flange': 2.60, 'smoke shifter': 4.50, 'poiuyt': 5.50}\n",
        "catalog_choice = input('Enter a catalog number: ')\n",
        "print('The price of', catalog[catalog_choice], 'is $' + str(Prices[catalog[catalog_choice]]))\n"
      ]
    },
    {
      "cell_type": "markdown",
      "metadata": {
        "id": "nMH9zpRWmX_C"
      },
      "source": [
        "3. Modify the last program to convert the price of the selected item to euros (you may need to look up the exchange rate). Add an additional statement to print the price in euros, prepending the Unicode string for the euro sign (`\\u20AC`) to the numeric price. Make the print statement work so that there is no space between the euro sign and the price."
      ]
    },
    {
      "cell_type": "code",
      "execution_count": 6,
      "metadata": {
        "id": "cjIz7SCrmb2G"
      },
      "outputs": [
        {
          "name": "stdout",
          "output_type": "stream",
          "text": [
            "That amount in Euros is €4.07\n"
          ]
        }
      ],
      "source": [
        "# what is the conversion rate between dollars and euros?\n",
        "conversion = 0.74\n",
        "# modify the program to convert euros to dollars\n",
        "euros = float(input())\n",
        "euros = Prices[catalog[catalog_choice]] * conversion\n",
        "print('That amount in Euros is \\u20AC' + str(euros))"
      ]
    },
    {
      "cell_type": "markdown",
      "metadata": {},
      "source": [
        "4. Convert the catalog dictionary in problem 2 to a pandas Series. Using `.loc`, print the name of the item with catalog number `19x5`. Then, using `.iloc`, print the name of the second item in the list."
      ]
    },
    {
      "cell_type": "code",
      "execution_count": 7,
      "metadata": {},
      "outputs": [
        {
          "name": "stdout",
          "output_type": "stream",
          "text": [
            "smoke shifter\n",
            "flange\n"
          ]
        }
      ],
      "source": [
        "import pandas as pd\n",
        "catalog_series = pd.Series(catalog)\n",
        "print(catalog_series.loc['19x5'])\n",
        "print(catalog_series.iloc[1])"
      ]
    },
    {
      "cell_type": "markdown",
      "metadata": {},
      "source": [
        "5. Convert the two dictionaries in problem 2 to a pandas DataFrame using `pd.DataFrame`. Display the DataFrame below the cell in tabular form."
      ]
    },
    {
      "cell_type": "code",
      "execution_count": 10,
      "metadata": {},
      "outputs": [
        {
          "name": "stdout",
          "output_type": "stream",
          "text": [
            "                  0\n",
            "1008         widget\n",
            "2149         flange\n",
            "19x5  smoke shifter\n",
            "992          poiuyt                  0\n",
            "widget         2.25\n",
            "flange         2.60\n",
            "smoke shifter  4.50\n",
            "poiuyt         5.50\n"
          ]
        }
      ],
      "source": [
        "catalog_df = pd.DataFrame(catalog_series)\n",
        "prices_df = pd.DataFrame(pd.Series(Prices))\n",
        "full_catalog = (str(catalog_df) + str(prices_df))\n",
        "print(full_catalog)"
      ]
    },
    {
      "cell_type": "markdown",
      "metadata": {},
      "source": [
        "6. Using the DataFrame you just created, print the Series for the price column. Then print the Series for the catalog number 2149 row."
      ]
    },
    {
      "cell_type": "code",
      "execution_count": 15,
      "metadata": {},
      "outputs": [
        {
          "name": "stdout",
          "output_type": "stream",
          "text": [
            "widget           2.25\n",
            "flange           2.60\n",
            "smoke shifter    4.50\n",
            "poiuyt           5.50\n",
            "Name: 0, dtype: float64\n",
            "2.6\n"
          ]
        }
      ],
      "source": [
        "prices_series = prices_df[0]\n",
        "print(prices_series)\n",
        "print(prices_series.iloc[1])"
      ]
    },
    {
      "cell_type": "markdown",
      "metadata": {
        "id": "KFePud4QffsM"
      },
      "source": [
        "7. The second line of code below reads in a CSV containing climate data: the average precipitation and temperature for months the year 1879 in Mesa, Arizona. Display the first 6 rows of the DataFrame below the cell in tabular form. \n",
        "\n",
        "In the following code cell, print the following:\n",
        "- the data for March 1879 (as a Series).\n",
        "- the average temperture for July 1879.\n"
      ]
    },
    {
      "cell_type": "code",
      "execution_count": 16,
      "metadata": {
        "id": "atDG3hlpf45z"
      },
      "outputs": [
        {
          "name": "stdout",
          "output_type": "stream",
          "text": [
            "  month   ppt  tavg\n",
            "0   Jan  92.8  12.1\n",
            "1   Feb  19.1  10.1\n",
            "2   Mar  18.2  11.8\n",
            "3   Apr   0.0  19.2\n",
            "4   May   4.1  25.0\n",
            "5   Jun   0.0  28.1\n"
          ]
        }
      ],
      "source": [
        "import pandas as pd\n",
        "climate = pd.read_csv('https://github.com/HeardLibrary/digital-scholarship/raw/master/data/codegraf/mesa_climate.csv')\n",
        "\n",
        "# Set the row index to be the 'month' column\n",
        "print(climate.head(6))\n"
      ]
    },
    {
      "cell_type": "code",
      "execution_count": null,
      "metadata": {},
      "outputs": [],
      "source": []
    },
    {
      "cell_type": "markdown",
      "metadata": {
        "id": "MKRMPaKAmcYX"
      },
      "source": [
        "8. Create a list that contains the names of the days of the week. Using a `for` loop, print the days of the week."
      ]
    },
    {
      "cell_type": "code",
      "execution_count": null,
      "metadata": {
        "id": "LtbTwWfgmh_Y"
      },
      "outputs": [],
      "source": []
    },
    {
      "cell_type": "markdown",
      "metadata": {
        "id": "GsibOFKHhpBe"
      },
      "source": [
        "9. Using a `for` loop and the `.iterrows` method, print the month abbreviation and average temperature in Mesa for each month in 1879 together on the same line. (Remember that the month abbreviation is now the index for the row.) To make the output clearer, print a header explaining what the columns are before you print the values."
      ]
    },
    {
      "cell_type": "code",
      "execution_count": null,
      "metadata": {
        "id": "XCLatK9SiPTo"
      },
      "outputs": [],
      "source": []
    },
    {
      "cell_type": "markdown",
      "metadata": {
        "id": "yzBbdFRViQB9"
      },
      "source": [
        "10. Create a variable called `sum` and set its value to zero. Create a `for` loop that steps through each month and adds the precipitation value for each month to the `sum` variable. Recall that\n",
        "\n",
        "```\n",
        "sum += number\n",
        "```\n",
        "\n",
        "is a shortcut for\n",
        "\n",
        "```\n",
        "sum = sum + number\n",
        "```\n",
        "\n",
        "After you add up all of the values, print the value of the average precipitation for all months of the year. (Don't worry about weighting the monthly values by the length of the month.)"
      ]
    },
    {
      "cell_type": "code",
      "execution_count": null,
      "metadata": {
        "id": "L54PPx1bjXHG"
      },
      "outputs": [],
      "source": []
    },
    {
      "cell_type": "markdown",
      "metadata": {},
      "source": [
        "11. Because pandas is designed for vectorized operations, there is an easier way to find the average precipitation for all of the months. Simply append the `.mean()` method to the precipitation column of the DataFrame. (The mean method does not require any arguments.) Print the result. Is it the same as what you got using the `for` loop?"
      ]
    },
    {
      "cell_type": "code",
      "execution_count": null,
      "metadata": {},
      "outputs": [],
      "source": []
    }
  ],
  "metadata": {
    "colab": {
      "provenance": []
    },
    "kernelspec": {
      "display_name": "Python 3",
      "name": "python3"
    },
    "language_info": {
      "codemirror_mode": {
        "name": "ipython",
        "version": 3
      },
      "file_extension": ".py",
      "mimetype": "text/x-python",
      "name": "python",
      "nbconvert_exporter": "python",
      "pygments_lexer": "ipython3",
      "version": "3.12.2"
    }
  },
  "nbformat": 4,
  "nbformat_minor": 0
}
