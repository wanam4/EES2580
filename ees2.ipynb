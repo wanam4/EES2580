{
  "cells": [
    {
      "cell_type": "markdown",
      "metadata": {
        "id": "wKwLGL5HvPUq"
      },
      "source": [
        "# Importing from the Standard Library\n",
        "\n",
        "## math module\n",
        "\n",
        "The documentation for the `math` module is [here](https://docs.python.org/3/library/math.html)\n",
        "\n",
        "Importing a single function from a module"
      ]
    },
    {
      "cell_type": "code",
      "execution_count": 2,
      "metadata": {
        "id": "CKebisMfvPUr"
      },
      "outputs": [],
      "source": [
        "from math import sqrt"
      ]
    },
    {
      "cell_type": "code",
      "execution_count": 3,
      "metadata": {
        "id": "eCZSK6bBvPUv"
      },
      "outputs": [
        {
          "name": "stdout",
          "output_type": "stream",
          "text": [
            "1.4142135623730951\n"
          ]
        }
      ],
      "source": [
        "answer = sqrt(2)\n",
        "print(answer)"
      ]
    },
    {
      "cell_type": "markdown",
      "metadata": {
        "id": "cuqz5W_OvPUx"
      },
      "source": [
        "Importing the entire module"
      ]
    },
    {
      "cell_type": "code",
      "execution_count": 4,
      "metadata": {
        "id": "fE3tqZjovPUy"
      },
      "outputs": [],
      "source": [
        "import math"
      ]
    },
    {
      "cell_type": "code",
      "execution_count": 5,
      "metadata": {
        "id": "ZvgGCPVSvPU1"
      },
      "outputs": [
        {
          "name": "stdout",
          "output_type": "stream",
          "text": [
            "3.141592653589793\n",
            "-1.0\n"
          ]
        }
      ],
      "source": [
        "pi = math.pi # modules can include constants (unchanging variable values)\n",
        "print(pi)\n",
        "answer = math.cos(pi)\n",
        "print(answer)"
      ]
    },
    {
      "cell_type": "markdown",
      "metadata": {
        "id": "hMyPvOlXvPU3"
      },
      "source": [
        "Abbreviating an imported module"
      ]
    },
    {
      "cell_type": "code",
      "execution_count": 6,
      "metadata": {
        "id": "TEpFJhF6vPU3"
      },
      "outputs": [],
      "source": [
        "import math as m"
      ]
    },
    {
      "cell_type": "code",
      "execution_count": 7,
      "metadata": {
        "id": "R0HPDYwovPU6"
      },
      "outputs": [
        {
          "name": "stdout",
          "output_type": "stream",
          "text": [
            "3.0\n"
          ]
        }
      ],
      "source": [
        "answer = m.log10(1000)\n",
        "print(answer)"
      ]
    },
    {
      "cell_type": "code",
      "execution_count": 9,
      "metadata": {
        "id": "3WBUx6UgvPU8"
      },
      "outputs": [
        {
          "name": "stdout",
          "output_type": "stream",
          "text": [
            "1.4142135623730951\n",
            "1.4142135623730951\n",
            "1.4142135623730951\n"
          ]
        }
      ],
      "source": [
        "# The same function can be referenced multiple ways\n",
        "# depending on how it was previously imported\n",
        "print(sqrt(2))\n",
        "print(math.sqrt(2))\n",
        "print(m.sqrt(2))"
      ]
    },
    {
      "cell_type": "markdown",
      "metadata": {},
      "source": [
        "## Practice\n",
        "\n",
        "The `math` module includes the `radians()` function that will convert from degrees to radians. Import the radians function from the `math` module, then use it to convert 180 degrees to radians. Print the answer."
      ]
    },
    {
      "cell_type": "code",
      "execution_count": 10,
      "metadata": {},
      "outputs": [
        {
          "data": {
            "text/plain": [
              "3.141592653589793"
            ]
          },
          "execution_count": 10,
          "metadata": {},
          "output_type": "execute_result"
        }
      ],
      "source": [
        "from math import radians\n",
        "radians(180)"
      ]
    },
    {
      "cell_type": "code",
      "execution_count": 11,
      "metadata": {},
      "outputs": [
        {
          "data": {
            "text/plain": [
              "3.141592653589793"
            ]
          },
          "execution_count": 11,
          "metadata": {},
          "output_type": "execute_result"
        }
      ],
      "source": [
        "import math as m\n",
        "m.radians(180)"
      ]
    },
    {
      "cell_type": "markdown",
      "metadata": {
        "id": "aIAdOBK_vPU-"
      },
      "source": [
        "## time module\n",
        "\n",
        "[documentation](https://docs.python.org/3/library/time.html)"
      ]
    },
    {
      "cell_type": "code",
      "execution_count": 12,
      "metadata": {
        "id": "NNiPWCDnvPU_"
      },
      "outputs": [],
      "source": [
        "# Import the time module\n",
        "import time"
      ]
    },
    {
      "cell_type": "code",
      "execution_count": 13,
      "metadata": {
        "id": "XqhYdM2HvPVB"
      },
      "outputs": [
        {
          "name": "stdout",
          "output_type": "stream",
          "text": [
            "11:14:33\n",
            "I'm going to go to sleep for 3 seconds!\n",
            "I'm awake!\n",
            "11:14:36\n"
          ]
        }
      ],
      "source": [
        "# Print current local time as a formatted string\n",
        "# \"Local time\" may be ambiguous if running in the cloud!\n",
        "print(time.strftime('%H:%M:%S'))\n",
        "print(\"I'm going to go to sleep for 3 seconds!\")\n",
        "# Suspend execution for 3 seconds\n",
        "time.sleep(3)\n",
        "print(\"I'm awake!\")\n",
        "print(time.strftime('%H:%M:%S'))"
      ]
    },
    {
      "cell_type": "markdown",
      "metadata": {},
      "source": [
        "## Practice\n",
        "\n",
        "The `time()` function from the `time` module gives the number of seconds since the start of the day January 1, 1970. Import the `time` module as `t`, then print the number of seconds since January 1, 1970."
      ]
    },
    {
      "cell_type": "code",
      "execution_count": 20,
      "metadata": {},
      "outputs": [
        {
          "name": "stdout",
          "output_type": "stream",
          "text": [
            "1709227030.1046758\n"
          ]
        }
      ],
      "source": [
        "import time as t\n",
        "print(t.time()) # number of seconds since the start of the day on January 1, 1970"
      ]
    },
    {
      "cell_type": "markdown",
      "metadata": {
        "id": "RXItMngAD-YK"
      },
      "source": [
        "## requests module\n",
        "\n",
        "[documentation](https://docs.python-requests.org/en/latest/)\n",
        "\n",
        "To determine whether you need to install the `requests` module, run the code in the following cell. If you get an error, you need to install the module using the code in the cell after that."
      ]
    },
    {
      "cell_type": "code",
      "execution_count": 21,
      "metadata": {},
      "outputs": [],
      "source": [
        "import requests"
      ]
    },
    {
      "cell_type": "code",
      "execution_count": null,
      "metadata": {},
      "outputs": [],
      "source": [
        "# Only run the code in this cell if you get an error message when running the previous cell.\n",
        "# If the command doesn't work, you may need to change it from `pip` to `pip3`, depending\n",
        "# on your Python installation and computer's operating system.\n",
        "\n",
        "%pip install requests\n",
        "\n",
        "# Once you have successfully installed the requests module, run the code cell above\n",
        "# again to see if you can successfully load the requests module."
      ]
    },
    {
      "cell_type": "code",
      "execution_count": 27,
      "metadata": {
        "id": "087cY1fTEWVL"
      },
      "outputs": [
        {
          "name": "stdout",
          "output_type": "stream",
          "text": [
            "<class 'requests.models.Response'>\n"
          ]
        }
      ],
      "source": [
        "import requests\n",
        "url = 'https://raw.githubusercontent.com/Veraticus/cryptolalia/master/test/fixtures/Declaration%20of%20Independence.txt'\n",
        "reply = requests.get(url)\n",
        "print(type(reply))"
      ]
    },
    {
      "cell_type": "code",
      "execution_count": 28,
      "metadata": {
        "id": "QzdThYLyEcDt"
      },
      "outputs": [
        {
          "name": "stdout",
          "output_type": "stream",
          "text": [
            "The unanimous Declaration of the thirteen united States of America\n",
            "\n",
            "When in the Course of human events, it becomes necessary for\n",
            "one people to dissolve the political bands which have connected\n",
            "them with another, and to assume, among the Powers of the earth,\n",
            "the separate and equal station to which the Laws of Nature and\n",
            "of Nature's God entitle them, a decent respect to the opinions\n",
            "of mankind requires that they should declare the causes which\n",
            "impel them to the separation.\n",
            "\n",
            "We hold these truths to be self-evident, that all men are created equal,\n",
            "that they are endowed by their Creator with certain unalienable Rights,\n",
            "that among these are Life, Liberty, and the pursuit of Happiness.\n",
            "That to secure these rights, Governments are instituted among Men,\n",
            "deriving their just powers from the consent of the governed,\n",
            "That whenever any Form of Government becomes destructive of these ends,\n",
            "it is the Right of the People to alter or to abolish it, and to institute\n",
            "new Government, laying its foundation on such principles and organizing\n",
            "its powers in such form, as to them shall seem most likely to effect\n",
            "their Safety and Happiness.  Prudence, indeed, will dictate that Governments\n",
            "long established should not be changed for light and transient causes;\n",
            "and accordingly all experience hath shown, that mankind are more disposed\n",
            "to suffer, while evils are sufferable, than to right themselves by abolishing\n",
            "the forms to which they are accustomed.  But when a long train of abuses and\n",
            "usurpations, pursuing invariably the same Object evinces a design to reduce\n",
            "them under absolute Despotism, it is their right, it is their duty, to throw\n",
            "off such Government, and to provide new Guards for their future security.\n",
            "--Such has been the patient sufferance of these Colonies; and such is now\n",
            "the necessity which constrains them to alter their former Systems of Government.\n",
            "The history of the present King of Great Britain is a history of repeated\n",
            "injuries and usurpations, all having in direct object the establishment\n",
            "of an absolute Tyranny over these States.  To prove this, let Facts\n",
            "be submitted to a candid world.\n",
            "\n",
            "He has refused his Assent to Laws, the most wholesome and necessary\n",
            "for the public good.\n",
            "\n",
            "He has forbidden his Governors to pass Laws of immediate\n",
            "and pressing importance, unless suspended in their operation\n",
            "till his Assent should be obtained; and when so suspended,\n",
            "he has utterly neglected to attend to them.\n",
            "\n",
            "He has refused to pass other Laws for the accommodation of\n",
            "large districts of people, unless those people would relinquish\n",
            "the right of Representation in the Legislature, a right\n",
            "inestimable to them and formidable to tyrants only.\n",
            "\n",
            "He has called together legislative bodies at places unusual,\n",
            "uncomfortable, and distant from the depository of their\n",
            "Public Records, for the sole purpose of fatiguing them\n",
            "into compliance with his measures.\n",
            "\n",
            "He has dissolved Representative Houses repeatedly, for opposing\n",
            "with manly firmness his invasions on the rights of the people.\n",
            "\n",
            "He has refused for a long time, after such dissolutions,\n",
            "to cause others to be elected; whereby the Legislative Powers,\n",
            "incapable of Annihilation, have returned to the People at large\n",
            "for their exercise; the State remaining in the mean time exposed\n",
            "to all the dangers of invasion from without, and convulsions within.\n",
            "\n",
            "He has endeavoured to prevent the population of these States;\n",
            "for that purpose obstructing the Laws of Naturalization of Foreigners;\n",
            "refusing to pass others to encourage their migration hither,\n",
            "and raising the conditions of new Appropriations of Lands.\n",
            "\n",
            "He has obstructed the Administration of Justice, by refusing his Assent\n",
            "to Laws for establishing Judiciary Powers.\n",
            "\n",
            "He has made judges dependent on his Will alone, for the tenure\n",
            "of their offices, and the amount and payment of their salaries.\n",
            "\n",
            "He has erected a multitude of New Offices, and sent hither swarms of\n",
            "Officers to harass our People, and eat out their substance.\n",
            "\n",
            "He has kept among us, in times of peace, Standing Armies\n",
            "without the Consent of our legislatures.\n",
            "\n",
            "He has affected to render the Military independent of\n",
            "and superior to the Civil Power.\n",
            "\n",
            "He has combined with others to subject us to a jurisdiction\n",
            "foreign to our constitution, and unacknowledged by our laws;\n",
            "giving his Assent to their Acts of pretended legislation:\n",
            "\n",
            "For quartering large bodies of armed troops among us:\n",
            "\n",
            "For protecting them, by a mock Trial, from Punishment for any Murders\n",
            "which they should commit on the Inhabitants of these States:\n",
            "\n",
            "For cutting off our Trade with all parts of the world:\n",
            "\n",
            "For imposing taxes on us without our Consent:\n",
            "\n",
            "For depriving us, in many cases, of the benefits of Trial by Jury:\n",
            "\n",
            "For transporting us beyond Seas to be tried for pretended offences:\n",
            "\n",
            "For abolishing the free System of English Laws in a neighbouring\n",
            "Province, establishing therein an Arbitrary government,\n",
            "and enlarging its Boundaries so as to render it at once\n",
            "an example and fit instrument for introducing the same\n",
            "absolute rule into these Colonies:\n",
            "\n",
            "For taking away our Charters, abolishing our most valuable Laws,\n",
            "and altering fundamentally the Forms of our Governments:\n",
            "\n",
            "For suspending our own Legislatures, and declaring themselves\n",
            "invested with Power to legislate for us in all cases whatsoever.\n",
            "\n",
            "He has abdicated Government here, by declaring us out of his Protection\n",
            "and waging War against us.\n",
            "\n",
            "He has plundered our seas, ravaged our Coasts, burnt our towns,\n",
            "and destroyed the lives of our people.\n",
            "\n",
            "He is at this time transporting large armies of foreign mercenaries\n",
            "to compleat the works of death, desolation and tyranny, already begun\n",
            "with circumstances of Cruelty & perfidy scarcely paralleled in the\n",
            "most barbarous ages, and totally unworthy of the Head of a civilized nation.\n",
            "\n",
            "He has constrained our fellow Citizens taken Captive on the high Seas\n",
            "to bear Arms against their Country, to become the executioners of\n",
            "their friends and Brethren, or to fall themselves by their Hands.\n",
            "\n",
            "He has excited domestic insurrections amongst us, and has\n",
            "endeavoured to bring on the inhabitants of our frontiers,\n",
            "the merciless Indian Savages, whose known rule of warfare,\n",
            "is an undistinguished destruction of all ages, sexes and conditions.\n",
            "\n",
            "In every stage of these Oppressions We have Petitioned for Redress\n",
            "in the most humble terms:  Our repeated Petitions have been answered\n",
            "only by repeated injury.  A Prince, whose character is thus marked\n",
            "by every act which may define a Tyrant, is unfit to be the ruler\n",
            "of a free People.\n",
            "\n",
            "Nor have We been wanting in attention to our Brittish brethren.\n",
            "We have warned them from time to time of attempts by their\n",
            "legislature to extend an unwarrantable jurisdiction over us.\n",
            "We have reminded them of the circumstances of our emigration and\n",
            "settlement here.  We have appealed to their native justice\n",
            "and magnanimity, and we have conjured them by the ties of our\n",
            "common kindred to disavow these usurpations, which would inevitably\n",
            "interrupt our connections and correspondence.  They too have been\n",
            "deaf to the voice of justice and of consanguinity.  We must, therefore,\n",
            "acquiesce in the necessity, which denounces our Separation, and hold them,\n",
            "as we hold the rest of mankind, Enemies in War, in Peace Friends.\n",
            "\n",
            "We, therefore, the Representatives of the United States of America,\n",
            "in General Congress, Assembled, appealing to the Supreme Judge of\n",
            "the world for the rectitude of our intentions, do, in the Name,\n",
            "and by the Authority of the good People of these Colonies,\n",
            "solemnly publish and declare, That these United Colonies are,\n",
            "and of Right ought to be Free and Independent States;\n",
            "that they are Absolved from all Allegiance to the British Crown,\n",
            "and that all political connection between them and the State\n",
            "of Great Britain, is and ought to be totally dissolved;\n",
            "and that as Free and Independent States, they have full Power to\n",
            "levy War, conclude Peace, contract Alliances, establish Commerce,\n",
            "and to do all other Acts and Things which Independent States may\n",
            "of right do.  And for the support of this Declaration, with a firm\n",
            "reliance on the Protection of Divine Providence, we mutually pledge\n",
            "to each other our Lives, our Fortunes and our sacred Honor.\n",
            "\n",
            "\n",
            "200\n"
          ]
        }
      ],
      "source": [
        "print(reply.text)\n",
        "print()\n",
        "print(reply.status_code) # 200 = OK, 404 = not found"
      ]
    },
    {
      "cell_type": "markdown",
      "metadata": {
        "id": "y4PnphuLvPVL"
      },
      "source": [
        "# Methods\n",
        "\n",
        "## String methods\n",
        "\n",
        "[documentation](https://docs.python.org/3/library/string.html)\n",
        "\n",
        "These methods operate on the built-in string class `str`.\n",
        "\n",
        "`.upper()`, `.lower()`, and `.title()` methods have no arguments. They return a string."
      ]
    },
    {
      "cell_type": "code",
      "execution_count": 70,
      "metadata": {
        "id": "2iYJW7TRvPVL"
      },
      "outputs": [
        {
          "name": "stdout",
          "output_type": "stream",
          "text": [
            "DO NOT YELL AT ME, STEVE!\n",
            "do not yell at me, steve!\n",
            "Do Not Yell At Me, Steve!\n"
          ]
        }
      ],
      "source": [
        "my_message = 'Do not yell at me, Steve!'\n",
        "shouting = my_message.upper()\n",
        "print(shouting)\n",
        "ee_cummings = my_message.lower()\n",
        "print(ee_cummings)\n",
        "my_book = my_message.title()\n",
        "print(my_book)"
      ]
    },
    {
      "cell_type": "markdown",
      "metadata": {},
      "source": [
        "## Practice\n",
        "\n",
        "Digital Object Identifiers (DOIs) are supposed to be expressed in all lower case. But they are often mistakenly given with some or all capital letters. Assign the incorrectly capitalized DOI string `10.2307/J.Ctvpj7Dsk.12` to a variable, convert it to all lower case, then concatenate the `doi_domain` given in the starter code below to the lower case string and print the result. The result should show up as a clickable link in the notebook environment."
      ]
    },
    {
      "cell_type": "code",
      "execution_count": 71,
      "metadata": {},
      "outputs": [
        {
          "name": "stdout",
          "output_type": "stream",
          "text": [
            "https://doi.org/10.2307/j.ctvpj7dsk.12\n"
          ]
        }
      ],
      "source": [
        "doi_domain = 'https://doi.org/'\n",
        "DOI_string = '10.2307/J.Ctvpj7Dsk.12'\n",
        "lowercase = DOI_string.lower()\n",
        "print(doi_domain + lowercase)"
      ]
    },
    {
      "cell_type": "markdown",
      "metadata": {
        "id": "grQoNqVoI_um"
      },
      "source": [
        "# Lists\n",
        "\n",
        "## Instantiating a list"
      ]
    },
    {
      "cell_type": "code",
      "execution_count": null,
      "metadata": {
        "id": "8C21JqNvI_un"
      },
      "outputs": [
        {
          "name": "stdout",
          "output_type": "stream",
          "text": [
            "['apple', 'orange', 'banana', 'lemon', 'lime']\n",
            "5\n",
            "<class 'list'>\n",
            "\n",
            "orange\n",
            "<class 'str'>\n"
          ]
        }
      ],
      "source": [
        "# Create an instance of a list\n",
        "basket = ['apple', 'orange', 'banana', 'lemon', 'lime']\n",
        "\n",
        "print(basket)\n",
        "print(len(basket))\n",
        "print(type(basket))\n",
        "print()\n",
        "print(basket[1])  # remember that Python uses zero-based indices\n",
        "print(type(basket[1]))"
      ]
    },
    {
      "cell_type": "code",
      "execution_count": 30,
      "metadata": {
        "id": "ptAgcr3VI_uq"
      },
      "outputs": [
        {
          "name": "stdout",
          "output_type": "stream",
          "text": [
            "[42, 3.14159, 2.71828, -13]\n",
            "4\n",
            "<class 'list'>\n",
            "\n",
            "42\n",
            "<class 'int'>\n",
            "\n",
            "3.14159\n",
            "<class 'float'>\n"
          ]
        }
      ],
      "source": [
        "# Create a list of numbers\n",
        "favorite_numbers = [42, 3.14159, 2.71828, -13]\n",
        "\n",
        "print(favorite_numbers)\n",
        "print(len(favorite_numbers))\n",
        "print(type(favorite_numbers))\n",
        "print()\n",
        "\n",
        "print(favorite_numbers[0])\n",
        "print(type(favorite_numbers[0]))\n",
        "print()\n",
        "\n",
        "print(favorite_numbers[1])\n",
        "print(type(favorite_numbers[1]))"
      ]
    },
    {
      "cell_type": "markdown",
      "metadata": {},
      "source": [
        "## Practice\n",
        "\n",
        "Create a list of the four cardinal directions (`north`, `south`, etc.). Print the whole list, then print the second item on the list."
      ]
    },
    {
      "cell_type": "code",
      "execution_count": 32,
      "metadata": {},
      "outputs": [
        {
          "name": "stdout",
          "output_type": "stream",
          "text": [
            "['north', 'south', 'east', 'west']\n",
            "south\n"
          ]
        }
      ],
      "source": [
        "cardinal_directions = ['north', 'south', 'east', 'west']\n",
        "print(cardinal_directions)\n",
        "print(cardinal_directions[1])"
      ]
    },
    {
      "cell_type": "markdown",
      "metadata": {
        "id": "NeXFcalNI_ut"
      },
      "source": [
        "## Output of functions or methods\n"
      ]
    },
    {
      "cell_type": "markdown",
      "metadata": {
        "id": "ochhnpoBI_uw"
      },
      "source": [
        "`sample()` function from random module\n",
        "\n",
        "[`random` module documentation](https://docs.python.org/3.3/library/random.html)"
      ]
    },
    {
      "cell_type": "code",
      "execution_count": 35,
      "metadata": {
        "id": "cBi8CxIvI_uw"
      },
      "outputs": [
        {
          "name": "stdout",
          "output_type": "stream",
          "text": [
            "[2, 5]\n"
          ]
        }
      ],
      "source": [
        "import random\n",
        "\n",
        "population = int(input('How many items in hat? '))\n",
        "n = int(input('How many items to draw from hat? '))\n",
        "# sample without replacement\n",
        "pull_from_hat = random.sample(range(population), n) # first argument is a range object, second is number of samples\n",
        "print(pull_from_hat)"
      ]
    },
    {
      "cell_type": "markdown",
      "metadata": {
        "id": "dtoEFtdsI_uz"
      },
      "source": [
        "`.split()` string method"
      ]
    },
    {
      "cell_type": "code",
      "execution_count": 36,
      "metadata": {
        "id": "xzemBOZsI_uz"
      },
      "outputs": [
        {
          "name": "stdout",
          "output_type": "stream",
          "text": [
            "['It', 'was', 'a', 'dark', 'and', 'stormy', 'night.']\n"
          ]
        }
      ],
      "source": [
        "my_sentence = 'It was a dark and stormy night.'\n",
        "words_list = my_sentence.split(' ')\n",
        "print(words_list)"
      ]
    },
    {
      "cell_type": "markdown",
      "metadata": {
        "id": "4KAB1KcuFWST"
      },
      "source": [
        "Using Declaration of Independence data from the web:"
      ]
    },
    {
      "cell_type": "code",
      "execution_count": 37,
      "metadata": {
        "id": "ikaT9t8NFboQ"
      },
      "outputs": [
        {
          "data": {
            "text/plain": [
              "['the unanimous declaration of the thirteen united states of america',\n",
              " '',\n",
              " 'when in the course of human events, it becomes necessary for',\n",
              " 'one people to dissolve the political bands which have connected',\n",
              " 'them with another, and to assume, among the powers of the earth,',\n",
              " 'the separate and equal station to which the laws of nature and',\n",
              " \"of nature's god entitle them, a decent respect to the opinions\",\n",
              " 'of mankind requires that they should declare the causes which',\n",
              " 'impel them to the separation.',\n",
              " '',\n",
              " 'we hold these truths to be self-evident, that all men are created equal,',\n",
              " 'that they are endowed by their creator with certain unalienable rights,',\n",
              " 'that among these are life, liberty, and the pursuit of happiness.',\n",
              " 'that to secure these rights, governments are instituted among men,',\n",
              " 'deriving their just powers from the consent of the governed,',\n",
              " 'that whenever any form of government becomes destructive of these ends,',\n",
              " 'it is the right of the people to alter or to abolish it, and to institute',\n",
              " 'new government, laying its foundation on such principles and organizing',\n",
              " 'its powers in such form, as to them shall seem most likely to effect',\n",
              " 'their safety and happiness.  prudence, indeed, will dictate that governments',\n",
              " 'long established should not be changed for light and transient causes;',\n",
              " 'and accordingly all experience hath shown, that mankind are more disposed',\n",
              " 'to suffer, while evils are sufferable, than to right themselves by abolishing',\n",
              " 'the forms to which they are accustomed.  but when a long train of abuses and',\n",
              " 'usurpations, pursuing invariably the same object evinces a design to reduce',\n",
              " 'them under absolute despotism, it is their right, it is their duty, to throw',\n",
              " 'off such government, and to provide new guards for their future security.',\n",
              " '--such has been the patient sufferance of these colonies; and such is now',\n",
              " 'the necessity which constrains them to alter their former systems of government.',\n",
              " 'the history of the present king of great britain is a history of repeated',\n",
              " 'injuries and usurpations, all having in direct object the establishment',\n",
              " 'of an absolute tyranny over these states.  to prove this, let facts',\n",
              " 'be submitted to a candid world.',\n",
              " '',\n",
              " 'he has refused his assent to laws, the most wholesome and necessary',\n",
              " 'for the public good.',\n",
              " '',\n",
              " 'he has forbidden his governors to pass laws of immediate',\n",
              " 'and pressing importance, unless suspended in their operation',\n",
              " 'till his assent should be obtained; and when so suspended,',\n",
              " 'he has utterly neglected to attend to them.',\n",
              " '',\n",
              " 'he has refused to pass other laws for the accommodation of',\n",
              " 'large districts of people, unless those people would relinquish',\n",
              " 'the right of representation in the legislature, a right',\n",
              " 'inestimable to them and formidable to tyrants only.',\n",
              " '',\n",
              " 'he has called together legislative bodies at places unusual,',\n",
              " 'uncomfortable, and distant from the depository of their',\n",
              " 'public records, for the sole purpose of fatiguing them',\n",
              " 'into compliance with his measures.',\n",
              " '',\n",
              " 'he has dissolved representative houses repeatedly, for opposing',\n",
              " 'with manly firmness his invasions on the rights of the people.',\n",
              " '',\n",
              " 'he has refused for a long time, after such dissolutions,',\n",
              " 'to cause others to be elected; whereby the legislative powers,',\n",
              " 'incapable of annihilation, have returned to the people at large',\n",
              " 'for their exercise; the state remaining in the mean time exposed',\n",
              " 'to all the dangers of invasion from without, and convulsions within.',\n",
              " '',\n",
              " 'he has endeavoured to prevent the population of these states;',\n",
              " 'for that purpose obstructing the laws of naturalization of foreigners;',\n",
              " 'refusing to pass others to encourage their migration hither,',\n",
              " 'and raising the conditions of new appropriations of lands.',\n",
              " '',\n",
              " 'he has obstructed the administration of justice, by refusing his assent',\n",
              " 'to laws for establishing judiciary powers.',\n",
              " '',\n",
              " 'he has made judges dependent on his will alone, for the tenure',\n",
              " 'of their offices, and the amount and payment of their salaries.',\n",
              " '',\n",
              " 'he has erected a multitude of new offices, and sent hither swarms of',\n",
              " 'officers to harass our people, and eat out their substance.',\n",
              " '',\n",
              " 'he has kept among us, in times of peace, standing armies',\n",
              " 'without the consent of our legislatures.',\n",
              " '',\n",
              " 'he has affected to render the military independent of',\n",
              " 'and superior to the civil power.',\n",
              " '',\n",
              " 'he has combined with others to subject us to a jurisdiction',\n",
              " 'foreign to our constitution, and unacknowledged by our laws;',\n",
              " 'giving his assent to their acts of pretended legislation:',\n",
              " '',\n",
              " 'for quartering large bodies of armed troops among us:',\n",
              " '',\n",
              " 'for protecting them, by a mock trial, from punishment for any murders',\n",
              " 'which they should commit on the inhabitants of these states:',\n",
              " '',\n",
              " 'for cutting off our trade with all parts of the world:',\n",
              " '',\n",
              " 'for imposing taxes on us without our consent:',\n",
              " '',\n",
              " 'for depriving us, in many cases, of the benefits of trial by jury:',\n",
              " '',\n",
              " 'for transporting us beyond seas to be tried for pretended offences:',\n",
              " '',\n",
              " 'for abolishing the free system of english laws in a neighbouring',\n",
              " 'province, establishing therein an arbitrary government,',\n",
              " 'and enlarging its boundaries so as to render it at once',\n",
              " 'an example and fit instrument for introducing the same',\n",
              " 'absolute rule into these colonies:',\n",
              " '',\n",
              " 'for taking away our charters, abolishing our most valuable laws,',\n",
              " 'and altering fundamentally the forms of our governments:',\n",
              " '',\n",
              " 'for suspending our own legislatures, and declaring themselves',\n",
              " 'invested with power to legislate for us in all cases whatsoever.',\n",
              " '',\n",
              " 'he has abdicated government here, by declaring us out of his protection',\n",
              " 'and waging war against us.',\n",
              " '',\n",
              " 'he has plundered our seas, ravaged our coasts, burnt our towns,',\n",
              " 'and destroyed the lives of our people.',\n",
              " '',\n",
              " 'he is at this time transporting large armies of foreign mercenaries',\n",
              " 'to compleat the works of death, desolation and tyranny, already begun',\n",
              " 'with circumstances of cruelty & perfidy scarcely paralleled in the',\n",
              " 'most barbarous ages, and totally unworthy of the head of a civilized nation.',\n",
              " '',\n",
              " 'he has constrained our fellow citizens taken captive on the high seas',\n",
              " 'to bear arms against their country, to become the executioners of',\n",
              " 'their friends and brethren, or to fall themselves by their hands.',\n",
              " '',\n",
              " 'he has excited domestic insurrections amongst us, and has',\n",
              " 'endeavoured to bring on the inhabitants of our frontiers,',\n",
              " 'the merciless indian savages, whose known rule of warfare,',\n",
              " 'is an undistinguished destruction of all ages, sexes and conditions.',\n",
              " '',\n",
              " 'in every stage of these oppressions we have petitioned for redress',\n",
              " 'in the most humble terms:  our repeated petitions have been answered',\n",
              " 'only by repeated injury.  a prince, whose character is thus marked',\n",
              " 'by every act which may define a tyrant, is unfit to be the ruler',\n",
              " 'of a free people.',\n",
              " '',\n",
              " 'nor have we been wanting in attention to our brittish brethren.',\n",
              " 'we have warned them from time to time of attempts by their',\n",
              " 'legislature to extend an unwarrantable jurisdiction over us.',\n",
              " 'we have reminded them of the circumstances of our emigration and',\n",
              " 'settlement here.  we have appealed to their native justice',\n",
              " 'and magnanimity, and we have conjured them by the ties of our',\n",
              " 'common kindred to disavow these usurpations, which would inevitably',\n",
              " 'interrupt our connections and correspondence.  they too have been',\n",
              " 'deaf to the voice of justice and of consanguinity.  we must, therefore,',\n",
              " 'acquiesce in the necessity, which denounces our separation, and hold them,',\n",
              " 'as we hold the rest of mankind, enemies in war, in peace friends.',\n",
              " '',\n",
              " 'we, therefore, the representatives of the united states of america,',\n",
              " 'in general congress, assembled, appealing to the supreme judge of',\n",
              " 'the world for the rectitude of our intentions, do, in the name,',\n",
              " 'and by the authority of the good people of these colonies,',\n",
              " 'solemnly publish and declare, that these united colonies are,',\n",
              " 'and of right ought to be free and independent states;',\n",
              " 'that they are absolved from all allegiance to the british crown,',\n",
              " 'and that all political connection between them and the state',\n",
              " 'of great britain, is and ought to be totally dissolved;',\n",
              " 'and that as free and independent states, they have full power to',\n",
              " 'levy war, conclude peace, contract alliances, establish commerce,',\n",
              " 'and to do all other acts and things which independent states may',\n",
              " 'of right do.  and for the support of this declaration, with a firm',\n",
              " 'reliance on the protection of divine providence, we mutually pledge',\n",
              " 'to each other our lives, our fortunes and our sacred honor.',\n",
              " '']"
            ]
          },
          "execution_count": 37,
          "metadata": {},
          "output_type": "execute_result"
        }
      ],
      "source": [
        "path = 'https://raw.githubusercontent.com/Veraticus/cryptolalia/master/test/fixtures/Declaration%20of%20Independence.txt'\n",
        "response = requests.get(path)\n",
        "file_text = response.text\n",
        "lower_case = file_text.lower() # Turn all of the text into lower case\n",
        "lower_case.split('\\n') # Split by newlines to get each line as a list item."
      ]
    },
    {
      "cell_type": "markdown",
      "metadata": {},
      "source": [
        "## Practice\n",
        "\n",
        "Split the phone number by dashes, then print the area code."
      ]
    },
    {
      "cell_type": "code",
      "execution_count": 44,
      "metadata": {},
      "outputs": [
        {
          "name": "stdout",
          "output_type": "stream",
          "text": [
            "615\n"
          ]
        }
      ],
      "source": [
        "phone_number = '615-343-1234'\n",
        "area_code = phone_number.split('-')\n",
        "print(area_code[0])"
      ]
    },
    {
      "cell_type": "markdown",
      "metadata": {
        "id": "B0JZ-WnSI_u2"
      },
      "source": [
        "## Slicing lists"
      ]
    },
    {
      "cell_type": "code",
      "execution_count": 45,
      "metadata": {
        "id": "tW4wxoQuI_u2"
      },
      "outputs": [
        {
          "name": "stdout",
          "output_type": "stream",
          "text": [
            "['orange', 'banana', 'lemon']\n"
          ]
        }
      ],
      "source": [
        "basket = ['apple', 'orange', 'banana', 'lemon', 'lime']\n",
        "\n",
        "a_slice = basket[1:4]\n",
        "\n",
        "print(a_slice)"
      ]
    },
    {
      "cell_type": "code",
      "execution_count": 46,
      "metadata": {
        "id": "6Fw73a9uI_u5"
      },
      "outputs": [
        {
          "name": "stdout",
          "output_type": "stream",
          "text": [
            "['apple', 'orange', 'banana', 'lemon']\n"
          ]
        }
      ],
      "source": [
        "# Slicing from the beginning\n",
        "print(basket[:4])"
      ]
    },
    {
      "cell_type": "code",
      "execution_count": 47,
      "metadata": {
        "id": "4fAoaMRhI_u_"
      },
      "outputs": [
        {
          "name": "stdout",
          "output_type": "stream",
          "text": [
            "['banana', 'lemon', 'lime']\n"
          ]
        }
      ],
      "source": [
        "# Slicing to the end\n",
        "print(basket[2:])"
      ]
    },
    {
      "cell_type": "code",
      "execution_count": 48,
      "metadata": {
        "id": "AqEy_mE3I_vB"
      },
      "outputs": [
        {
          "name": "stdout",
          "output_type": "stream",
          "text": [
            "['lemon', 'lime']\n"
          ]
        }
      ],
      "source": [
        "# Slice relative to the end\n",
        "print(basket[-2:])"
      ]
    },
    {
      "cell_type": "code",
      "execution_count": 49,
      "metadata": {
        "id": "DSuhHSLJI_vD"
      },
      "outputs": [
        {
          "name": "stdout",
          "output_type": "stream",
          "text": [
            "apple\n",
            "['apple']\n"
          ]
        }
      ],
      "source": [
        "# What is the difference here:\n",
        "print(basket[0])\n",
        "print(basket[0:1])\n",
        "# Check the types"
      ]
    },
    {
      "cell_type": "code",
      "execution_count": 50,
      "metadata": {
        "id": "jVNGSeg1I_vG"
      },
      "outputs": [
        {
          "name": "stdout",
          "output_type": "stream",
          "text": [
            "iss\n"
          ]
        }
      ],
      "source": [
        "# Slicing a string\n",
        "a_word = 'Mississippi'\n",
        "word_piece = a_word[1:4]\n",
        "print(word_piece)"
      ]
    },
    {
      "cell_type": "markdown",
      "metadata": {},
      "source": [
        "## Practice\n",
        "\n",
        "Slice the weekdays (non-weekend days) from the list and print the new list."
      ]
    },
    {
      "cell_type": "code",
      "execution_count": 51,
      "metadata": {},
      "outputs": [
        {
          "name": "stdout",
          "output_type": "stream",
          "text": [
            "['Monday', 'Tuesday', 'Wednesday', 'Thursday', 'Friday']\n"
          ]
        }
      ],
      "source": [
        "day_list = ['Sunday', 'Monday', 'Tuesday', 'Wednesday', 'Thursday', 'Friday', 'Saturday']\n",
        "weekdays = day_list[1:6]\n",
        "print(weekdays)"
      ]
    },
    {
      "cell_type": "markdown",
      "metadata": {
        "id": "WIcj_NLFI_vJ"
      },
      "source": [
        "## Things to do with a list\n",
        "\n"
      ]
    },
    {
      "cell_type": "code",
      "execution_count": 53,
      "metadata": {
        "id": "ZegvkKn1I_vJ"
      },
      "outputs": [],
      "source": [
        "import random as r\n",
        "\n",
        "# Create some lists to play with\n",
        "cards = ['Ac', '2c', 'Jc', 'Qc', 'Kc', 'Ah', '2h', '3h']\n",
        "day_list = ['Sunday', 'Monday', 'Tuesday', 'Wednesday', 'Thursday', 'Friday', 'Saturday']\n",
        "# generate a deck of cards\n",
        "deck = [r.choice(cards) for i in range(52)]\n"
      ]
    },
    {
      "cell_type": "markdown",
      "metadata": {
        "id": "Gg3dTvKdI_vL"
      },
      "source": [
        "**Randomize** a list. Use the `shuffle()` function from the `random` module.\n",
        "\n",
        "Pass in the list to be randomized as the argument.\n",
        "\n",
        "There is no return value."
      ]
    },
    {
      "cell_type": "code",
      "execution_count": 55,
      "metadata": {
        "id": "lgFcMnYWI_vM"
      },
      "outputs": [
        {
          "name": "stdout",
          "output_type": "stream",
          "text": [
            "['Jc', 'Jc', 'Kc', 'Jc', 'Qc', '2c', 'Ah', 'Qc', 'Jc', 'Jc', 'Qc', '2h', 'Ac', '2h', 'Ac', '2h', '2c', 'Ac', '3h', 'Ah', '2c', '3h', '2h', 'Qc', 'Ah', 'Ah', '3h', '2c', '3h', 'Jc', 'Qc', '2h', 'Ah', '2h', 'Kc', '2h', '3h', '3h', 'Jc', 'Ah', 'Ah', 'Jc', '2h', '2h', '3h', '3h', 'Kc', '2h', '3h', 'Jc', '3h', 'Ah']\n"
          ]
        }
      ],
      "source": [
        "# Shuffle acts on the list object. It does not return a list.\n",
        "r.shuffle(deck)\n",
        "print(deck)"
      ]
    },
    {
      "cell_type": "markdown",
      "metadata": {
        "id": "QXRDRY7sI_vO"
      },
      "source": [
        "**Sort** a list. Use the `.sort()` list method.\n",
        "\n",
        "No argument is required.\n",
        "\n",
        "There is no return value"
      ]
    },
    {
      "cell_type": "code",
      "execution_count": 69,
      "metadata": {
        "id": "fbzH5wr_I_vO"
      },
      "outputs": [
        {
          "name": "stdout",
          "output_type": "stream",
          "text": [
            "['Friday', 'Monday', 'Saturday', 'Sunday', 'Thursday', 'Tuesday', 'Wednesday']\n"
          ]
        }
      ],
      "source": [
        "# Sort acts on the list item. It does not return a list.\n",
        "day_list.sort()\n",
        "print(day_list)"
      ]
    },
    {
      "cell_type": "markdown",
      "metadata": {
        "id": "D_TFu0QcFsb6"
      },
      "source": [
        "Sort the words in the Declaration of Independence. (Rerun the earlier cell if the value of `lower_case` hasn't yet been established.)"
      ]
    },
    {
      "cell_type": "code",
      "execution_count": 56,
      "metadata": {
        "id": "hdVewZERFx8a"
      },
      "outputs": [
        {
          "name": "stdout",
          "output_type": "stream",
          "text": [
            "['the', 'unanimous', 'declaration', 'of', 'the', 'thirteen', 'united', 'states', 'of', 'america\\n\\nwhen', 'in', 'the', 'course', 'of', 'human', 'events,', 'it', 'becomes', 'necessary', 'for\\none', 'people', 'to', 'dissolve', 'the', 'political', 'bands', 'which', 'have', 'connected\\nthem', 'with', 'another,', 'and', 'to', 'assume,', 'among', 'the', 'powers', 'of', 'the', 'earth,\\nthe', 'separate', 'and', 'equal', 'station', 'to', 'which', 'the', 'laws', 'of', 'nature', 'and\\nof', \"nature's\", 'god', 'entitle', 'them,', 'a', 'decent', 'respect', 'to', 'the', 'opinions\\nof', 'mankind', 'requires', 'that', 'they', 'should', 'declare', 'the', 'causes', 'which\\nimpel', 'them', 'to', 'the', 'separation.\\n\\nwe', 'hold', 'these', 'truths', 'to', 'be', 'self-evident,', 'that', 'all', 'men', 'are', 'created', 'equal,\\nthat', 'they', 'are', 'endowed', 'by', 'their', 'creator', 'with', 'certain', 'unalienable', 'rights,\\nthat', 'among', 'these', 'are', 'life,', 'liberty,', 'and', 'the', 'pursuit', 'of', 'happiness.\\nthat', 'to', 'secure', 'these', 'rights,', 'governments', 'are', 'instituted', 'among', 'men,\\nderiving', 'their', 'just', 'powers', 'from', 'the', 'consent', 'of', 'the', 'governed,\\nthat', 'whenever', 'any', 'form', 'of', 'government', 'becomes', 'destructive', 'of', 'these', 'ends,\\nit', 'is', 'the', 'right', 'of', 'the', 'people', 'to', 'alter', 'or', 'to', 'abolish', 'it,', 'and', 'to', 'institute\\nnew', 'government,', 'laying', 'its', 'foundation', 'on', 'such', 'principles', 'and', 'organizing\\nits', 'powers', 'in', 'such', 'form,', 'as', 'to', 'them', 'shall', 'seem', 'most', 'likely', 'to', 'effect\\ntheir', 'safety', 'and', 'happiness.', '', 'prudence,', 'indeed,', 'will', 'dictate', 'that', 'governments\\nlong', 'established', 'should', 'not', 'be', 'changed', 'for', 'light', 'and', 'transient', 'causes;\\nand', 'accordingly', 'all', 'experience', 'hath', 'shown,', 'that', 'mankind', 'are', 'more', 'disposed\\nto', 'suffer,', 'while', 'evils', 'are', 'sufferable,', 'than', 'to', 'right', 'themselves', 'by', 'abolishing\\nthe', 'forms', 'to', 'which', 'they', 'are', 'accustomed.', '', 'but', 'when', 'a', 'long', 'train', 'of', 'abuses', 'and\\nusurpations,', 'pursuing', 'invariably', 'the', 'same', 'object', 'evinces', 'a', 'design', 'to', 'reduce\\nthem', 'under', 'absolute', 'despotism,', 'it', 'is', 'their', 'right,', 'it', 'is', 'their', 'duty,', 'to', 'throw\\noff', 'such', 'government,', 'and', 'to', 'provide', 'new', 'guards', 'for', 'their', 'future', 'security.\\n--such', 'has', 'been', 'the', 'patient', 'sufferance', 'of', 'these', 'colonies;', 'and', 'such', 'is', 'now\\nthe', 'necessity', 'which', 'constrains', 'them', 'to', 'alter', 'their', 'former', 'systems', 'of', 'government.\\nthe', 'history', 'of', 'the', 'present', 'king', 'of', 'great', 'britain', 'is', 'a', 'history', 'of', 'repeated\\ninjuries', 'and', 'usurpations,', 'all', 'having', 'in', 'direct', 'object', 'the', 'establishment\\nof', 'an', 'absolute', 'tyranny', 'over', 'these', 'states.', '', 'to', 'prove', 'this,', 'let', 'facts\\nbe', 'submitted', 'to', 'a', 'candid', 'world.\\n\\nhe', 'has', 'refused', 'his', 'assent', 'to', 'laws,', 'the', 'most', 'wholesome', 'and', 'necessary\\nfor', 'the', 'public', 'good.\\n\\nhe', 'has', 'forbidden', 'his', 'governors', 'to', 'pass', 'laws', 'of', 'immediate\\nand', 'pressing', 'importance,', 'unless', 'suspended', 'in', 'their', 'operation\\ntill', 'his', 'assent', 'should', 'be', 'obtained;', 'and', 'when', 'so', 'suspended,\\nhe', 'has', 'utterly', 'neglected', 'to', 'attend', 'to', 'them.\\n\\nhe', 'has', 'refused', 'to', 'pass', 'other', 'laws', 'for', 'the', 'accommodation', 'of\\nlarge', 'districts', 'of', 'people,', 'unless', 'those', 'people', 'would', 'relinquish\\nthe', 'right', 'of', 'representation', 'in', 'the', 'legislature,', 'a', 'right\\ninestimable', 'to', 'them', 'and', 'formidable', 'to', 'tyrants', 'only.\\n\\nhe', 'has', 'called', 'together', 'legislative', 'bodies', 'at', 'places', 'unusual,\\nuncomfortable,', 'and', 'distant', 'from', 'the', 'depository', 'of', 'their\\npublic', 'records,', 'for', 'the', 'sole', 'purpose', 'of', 'fatiguing', 'them\\ninto', 'compliance', 'with', 'his', 'measures.\\n\\nhe', 'has', 'dissolved', 'representative', 'houses', 'repeatedly,', 'for', 'opposing\\nwith', 'manly', 'firmness', 'his', 'invasions', 'on', 'the', 'rights', 'of', 'the', 'people.\\n\\nhe', 'has', 'refused', 'for', 'a', 'long', 'time,', 'after', 'such', 'dissolutions,\\nto', 'cause', 'others', 'to', 'be', 'elected;', 'whereby', 'the', 'legislative', 'powers,\\nincapable', 'of', 'annihilation,', 'have', 'returned', 'to', 'the', 'people', 'at', 'large\\nfor', 'their', 'exercise;', 'the', 'state', 'remaining', 'in', 'the', 'mean', 'time', 'exposed\\nto', 'all', 'the', 'dangers', 'of', 'invasion', 'from', 'without,', 'and', 'convulsions', 'within.\\n\\nhe', 'has', 'endeavoured', 'to', 'prevent', 'the', 'population', 'of', 'these', 'states;\\nfor', 'that', 'purpose', 'obstructing', 'the', 'laws', 'of', 'naturalization', 'of', 'foreigners;\\nrefusing', 'to', 'pass', 'others', 'to', 'encourage', 'their', 'migration', 'hither,\\nand', 'raising', 'the', 'conditions', 'of', 'new', 'appropriations', 'of', 'lands.\\n\\nhe', 'has', 'obstructed', 'the', 'administration', 'of', 'justice,', 'by', 'refusing', 'his', 'assent\\nto', 'laws', 'for', 'establishing', 'judiciary', 'powers.\\n\\nhe', 'has', 'made', 'judges', 'dependent', 'on', 'his', 'will', 'alone,', 'for', 'the', 'tenure\\nof', 'their', 'offices,', 'and', 'the', 'amount', 'and', 'payment', 'of', 'their', 'salaries.\\n\\nhe', 'has', 'erected', 'a', 'multitude', 'of', 'new', 'offices,', 'and', 'sent', 'hither', 'swarms', 'of\\nofficers', 'to', 'harass', 'our', 'people,', 'and', 'eat', 'out', 'their', 'substance.\\n\\nhe', 'has', 'kept', 'among', 'us,', 'in', 'times', 'of', 'peace,', 'standing', 'armies\\nwithout', 'the', 'consent', 'of', 'our', 'legislatures.\\n\\nhe', 'has', 'affected', 'to', 'render', 'the', 'military', 'independent', 'of\\nand', 'superior', 'to', 'the', 'civil', 'power.\\n\\nhe', 'has', 'combined', 'with', 'others', 'to', 'subject', 'us', 'to', 'a', 'jurisdiction\\nforeign', 'to', 'our', 'constitution,', 'and', 'unacknowledged', 'by', 'our', 'laws;\\ngiving', 'his', 'assent', 'to', 'their', 'acts', 'of', 'pretended', 'legislation:\\n\\nfor', 'quartering', 'large', 'bodies', 'of', 'armed', 'troops', 'among', 'us:\\n\\nfor', 'protecting', 'them,', 'by', 'a', 'mock', 'trial,', 'from', 'punishment', 'for', 'any', 'murders\\nwhich', 'they', 'should', 'commit', 'on', 'the', 'inhabitants', 'of', 'these', 'states:\\n\\nfor', 'cutting', 'off', 'our', 'trade', 'with', 'all', 'parts', 'of', 'the', 'world:\\n\\nfor', 'imposing', 'taxes', 'on', 'us', 'without', 'our', 'consent:\\n\\nfor', 'depriving', 'us,', 'in', 'many', 'cases,', 'of', 'the', 'benefits', 'of', 'trial', 'by', 'jury:\\n\\nfor', 'transporting', 'us', 'beyond', 'seas', 'to', 'be', 'tried', 'for', 'pretended', 'offences:\\n\\nfor', 'abolishing', 'the', 'free', 'system', 'of', 'english', 'laws', 'in', 'a', 'neighbouring\\nprovince,', 'establishing', 'therein', 'an', 'arbitrary', 'government,\\nand', 'enlarging', 'its', 'boundaries', 'so', 'as', 'to', 'render', 'it', 'at', 'once\\nan', 'example', 'and', 'fit', 'instrument', 'for', 'introducing', 'the', 'same\\nabsolute', 'rule', 'into', 'these', 'colonies:\\n\\nfor', 'taking', 'away', 'our', 'charters,', 'abolishing', 'our', 'most', 'valuable', 'laws,\\nand', 'altering', 'fundamentally', 'the', 'forms', 'of', 'our', 'governments:\\n\\nfor', 'suspending', 'our', 'own', 'legislatures,', 'and', 'declaring', 'themselves\\ninvested', 'with', 'power', 'to', 'legislate', 'for', 'us', 'in', 'all', 'cases', 'whatsoever.\\n\\nhe', 'has', 'abdicated', 'government', 'here,', 'by', 'declaring', 'us', 'out', 'of', 'his', 'protection\\nand', 'waging', 'war', 'against', 'us.\\n\\nhe', 'has', 'plundered', 'our', 'seas,', 'ravaged', 'our', 'coasts,', 'burnt', 'our', 'towns,\\nand', 'destroyed', 'the', 'lives', 'of', 'our', 'people.\\n\\nhe', 'is', 'at', 'this', 'time', 'transporting', 'large', 'armies', 'of', 'foreign', 'mercenaries\\nto', 'compleat', 'the', 'works', 'of', 'death,', 'desolation', 'and', 'tyranny,', 'already', 'begun\\nwith', 'circumstances', 'of', 'cruelty', '&', 'perfidy', 'scarcely', 'paralleled', 'in', 'the\\nmost', 'barbarous', 'ages,', 'and', 'totally', 'unworthy', 'of', 'the', 'head', 'of', 'a', 'civilized', 'nation.\\n\\nhe', 'has', 'constrained', 'our', 'fellow', 'citizens', 'taken', 'captive', 'on', 'the', 'high', 'seas\\nto', 'bear', 'arms', 'against', 'their', 'country,', 'to', 'become', 'the', 'executioners', 'of\\ntheir', 'friends', 'and', 'brethren,', 'or', 'to', 'fall', 'themselves', 'by', 'their', 'hands.\\n\\nhe', 'has', 'excited', 'domestic', 'insurrections', 'amongst', 'us,', 'and', 'has\\nendeavoured', 'to', 'bring', 'on', 'the', 'inhabitants', 'of', 'our', 'frontiers,\\nthe', 'merciless', 'indian', 'savages,', 'whose', 'known', 'rule', 'of', 'warfare,\\nis', 'an', 'undistinguished', 'destruction', 'of', 'all', 'ages,', 'sexes', 'and', 'conditions.\\n\\nin', 'every', 'stage', 'of', 'these', 'oppressions', 'we', 'have', 'petitioned', 'for', 'redress\\nin', 'the', 'most', 'humble', 'terms:', '', 'our', 'repeated', 'petitions', 'have', 'been', 'answered\\nonly', 'by', 'repeated', 'injury.', '', 'a', 'prince,', 'whose', 'character', 'is', 'thus', 'marked\\nby', 'every', 'act', 'which', 'may', 'define', 'a', 'tyrant,', 'is', 'unfit', 'to', 'be', 'the', 'ruler\\nof', 'a', 'free', 'people.\\n\\nnor', 'have', 'we', 'been', 'wanting', 'in', 'attention', 'to', 'our', 'brittish', 'brethren.\\nwe', 'have', 'warned', 'them', 'from', 'time', 'to', 'time', 'of', 'attempts', 'by', 'their\\nlegislature', 'to', 'extend', 'an', 'unwarrantable', 'jurisdiction', 'over', 'us.\\nwe', 'have', 'reminded', 'them', 'of', 'the', 'circumstances', 'of', 'our', 'emigration', 'and\\nsettlement', 'here.', '', 'we', 'have', 'appealed', 'to', 'their', 'native', 'justice\\nand', 'magnanimity,', 'and', 'we', 'have', 'conjured', 'them', 'by', 'the', 'ties', 'of', 'our\\ncommon', 'kindred', 'to', 'disavow', 'these', 'usurpations,', 'which', 'would', 'inevitably\\ninterrupt', 'our', 'connections', 'and', 'correspondence.', '', 'they', 'too', 'have', 'been\\ndeaf', 'to', 'the', 'voice', 'of', 'justice', 'and', 'of', 'consanguinity.', '', 'we', 'must,', 'therefore,\\nacquiesce', 'in', 'the', 'necessity,', 'which', 'denounces', 'our', 'separation,', 'and', 'hold', 'them,\\nas', 'we', 'hold', 'the', 'rest', 'of', 'mankind,', 'enemies', 'in', 'war,', 'in', 'peace', 'friends.\\n\\nwe,', 'therefore,', 'the', 'representatives', 'of', 'the', 'united', 'states', 'of', 'america,\\nin', 'general', 'congress,', 'assembled,', 'appealing', 'to', 'the', 'supreme', 'judge', 'of\\nthe', 'world', 'for', 'the', 'rectitude', 'of', 'our', 'intentions,', 'do,', 'in', 'the', 'name,\\nand', 'by', 'the', 'authority', 'of', 'the', 'good', 'people', 'of', 'these', 'colonies,\\nsolemnly', 'publish', 'and', 'declare,', 'that', 'these', 'united', 'colonies', 'are,\\nand', 'of', 'right', 'ought', 'to', 'be', 'free', 'and', 'independent', 'states;\\nthat', 'they', 'are', 'absolved', 'from', 'all', 'allegiance', 'to', 'the', 'british', 'crown,\\nand', 'that', 'all', 'political', 'connection', 'between', 'them', 'and', 'the', 'state\\nof', 'great', 'britain,', 'is', 'and', 'ought', 'to', 'be', 'totally', 'dissolved;\\nand', 'that', 'as', 'free', 'and', 'independent', 'states,', 'they', 'have', 'full', 'power', 'to\\nlevy', 'war,', 'conclude', 'peace,', 'contract', 'alliances,', 'establish', 'commerce,\\nand', 'to', 'do', 'all', 'other', 'acts', 'and', 'things', 'which', 'independent', 'states', 'may\\nof', 'right', 'do.', '', 'and', 'for', 'the', 'support', 'of', 'this', 'declaration,', 'with', 'a', 'firm\\nreliance', 'on', 'the', 'protection', 'of', 'divine', 'providence,', 'we', 'mutually', 'pledge\\nto', 'each', 'other', 'our', 'lives,', 'our', 'fortunes', 'and', 'our', 'sacred', 'honor.\\n']\n",
            "['', '', '', '', '', '', '', '', '', '&', 'a', 'a', 'a', 'a', 'a', 'a', 'a', 'a', 'a', 'a', 'a', 'a', 'a', 'a', 'a', 'a', 'abdicated', 'abolish', 'abolishing', 'abolishing', 'abolishing\\nthe', 'absolute', 'absolute', 'absolved', 'abuses', 'accommodation', 'accordingly', 'accustomed.', 'act', 'acts', 'acts', 'administration', 'affected', 'after', 'against', 'against', 'ages,', 'ages,', 'all', 'all', 'all', 'all', 'all', 'all', 'all', 'all', 'all', 'all', 'allegiance', 'alliances,', 'alone,', 'already', 'alter', 'alter', 'altering', 'america\\n\\nwhen', 'america,\\nin', 'among', 'among', 'among', 'among', 'among', 'amongst', 'amount', 'an', 'an', 'an', 'an', 'and', 'and', 'and', 'and', 'and', 'and', 'and', 'and', 'and', 'and', 'and', 'and', 'and', 'and', 'and', 'and', 'and', 'and', 'and', 'and', 'and', 'and', 'and', 'and', 'and', 'and', 'and', 'and', 'and', 'and', 'and', 'and', 'and', 'and', 'and', 'and', 'and', 'and', 'and', 'and\\nof', 'and\\nsettlement', 'and\\nusurpations,', 'annihilation,', 'another,', 'answered\\nonly', 'any', 'any', 'appealed', 'appealing', 'appropriations', 'arbitrary', 'are', 'are', 'are', 'are', 'are', 'are', 'are', 'are', 'are,\\nand', 'armed', 'armies', 'armies\\nwithout', 'arms', 'as', 'as', 'as', 'assembled,', 'assent', 'assent', 'assent', 'assent\\nto', 'assume,', 'at', 'at', 'at', 'at', 'attempts', 'attend', 'attention', 'authority', 'away', 'bands', 'barbarous', 'be', 'be', 'be', 'be', 'be', 'be', 'be', 'be', 'bear', 'become', 'becomes', 'becomes', 'been', 'been', 'been', 'been\\ndeaf', 'begun\\nwith', 'benefits', 'between', 'beyond', 'bodies', 'bodies', 'boundaries', 'brethren,', 'brethren.\\nwe', 'bring', 'britain', 'britain,', 'british', 'brittish', 'burnt', 'but', 'by', 'by', 'by', 'by', 'by', 'by', 'by', 'by', 'by', 'by', 'by', 'by', 'called', 'candid', 'captive', 'cases', 'cases,', 'cause', 'causes', 'causes;\\nand', 'certain', 'changed', 'character', 'charters,', 'circumstances', 'circumstances', 'citizens', 'civil', 'civilized', 'coasts,', 'colonies', 'colonies,\\nsolemnly', 'colonies:\\n\\nfor', 'colonies;', 'combined', 'commerce,\\nand', 'commit', 'compleat', 'compliance', 'conclude', 'conditions', 'conditions.\\n\\nin', 'congress,', 'conjured', 'connected\\nthem', 'connection', 'connections', 'consanguinity.', 'consent', 'consent', 'consent:\\n\\nfor', 'constitution,', 'constrained', 'constrains', 'contract', 'convulsions', 'correspondence.', 'country,', 'course', 'created', 'creator', 'crown,\\nand', 'cruelty', 'cutting', 'dangers', 'death,', 'decent', 'declaration', 'declaration,', 'declare', 'declare,', 'declaring', 'declaring', 'define', 'denounces', 'dependent', 'depository', 'depriving', 'design', 'desolation', 'despotism,', 'destroyed', 'destruction', 'destructive', 'dictate', 'direct', 'disavow', 'disposed\\nto', 'dissolutions,\\nto', 'dissolve', 'dissolved', 'dissolved;\\nand', 'distant', 'districts', 'divine', 'do', 'do,', 'do.', 'domestic', 'duty,', 'each', 'earth,\\nthe', 'eat', 'effect\\ntheir', 'elected;', 'emigration', 'encourage', 'endeavoured', 'endowed', 'ends,\\nit', 'enemies', 'english', 'enlarging', 'entitle', 'equal', 'equal,\\nthat', 'erected', 'establish', 'established', 'establishing', 'establishing', 'establishment\\nof', 'events,', 'every', 'every', 'evils', 'evinces', 'example', 'excited', 'executioners', 'exercise;', 'experience', 'exposed\\nto', 'extend', 'facts\\nbe', 'fall', 'fatiguing', 'fellow', 'firm\\nreliance', 'firmness', 'fit', 'for', 'for', 'for', 'for', 'for', 'for', 'for', 'for', 'for', 'for', 'for', 'for', 'for', 'for', 'for', 'for\\none', 'forbidden', 'foreign', 'foreigners;\\nrefusing', 'form', 'form,', 'former', 'formidable', 'forms', 'forms', 'fortunes', 'foundation', 'free', 'free', 'free', 'free', 'friends', 'friends.\\n\\nwe,', 'from', 'from', 'from', 'from', 'from', 'from', 'frontiers,\\nthe', 'full', 'fundamentally', 'future', 'general', 'god', 'good', 'good.\\n\\nhe', 'governed,\\nthat', 'government', 'government', 'government,', 'government,', 'government,\\nand', 'government.\\nthe', 'governments', 'governments\\nlong', 'governments:\\n\\nfor', 'governors', 'great', 'great', 'guards', 'hands.\\n\\nhe', 'happiness.', 'happiness.\\nthat', 'harass', 'has', 'has', 'has', 'has', 'has', 'has', 'has', 'has', 'has', 'has', 'has', 'has', 'has', 'has', 'has', 'has', 'has', 'has', 'has', 'has\\nendeavoured', 'hath', 'have', 'have', 'have', 'have', 'have', 'have', 'have', 'have', 'have', 'have', 'have', 'having', 'head', 'here,', 'here.', 'high', 'his', 'his', 'his', 'his', 'his', 'his', 'his', 'his', 'his', 'history', 'history', 'hither', 'hither,\\nand', 'hold', 'hold', 'hold', 'honor.\\n', 'houses', 'human', 'humble', 'immediate\\nand', 'importance,', 'imposing', 'in', 'in', 'in', 'in', 'in', 'in', 'in', 'in', 'in', 'in', 'in', 'in', 'in', 'in', 'in', 'in', 'indeed,', 'independent', 'independent', 'independent', 'independent', 'indian', 'inevitably\\ninterrupt', 'inhabitants', 'inhabitants', 'injury.', 'institute\\nnew', 'instituted', 'instrument', 'insurrections', 'intentions,', 'into', 'introducing', 'invariably', 'invasion', 'invasions', 'is', 'is', 'is', 'is', 'is', 'is', 'is', 'is', 'is', 'it', 'it', 'it', 'it', 'it,', 'its', 'its', 'judge', 'judges', 'judiciary', 'jurisdiction', 'jurisdiction\\nforeign', 'jury:\\n\\nfor', 'just', 'justice', 'justice\\nand', 'justice,', 'kept', 'kindred', 'king', 'known', 'lands.\\n\\nhe', 'large', 'large', 'large\\nfor', 'laws', 'laws', 'laws', 'laws', 'laws', 'laws', 'laws,', 'laws,\\nand', 'laws;\\ngiving', 'laying', 'legislate', 'legislation:\\n\\nfor', 'legislative', 'legislative', 'legislature,', 'legislatures,', 'legislatures.\\n\\nhe', 'let', 'liberty,', 'life,', 'light', 'likely', 'lives', 'lives,', 'long', 'long', 'made', 'magnanimity,', 'mankind', 'mankind', 'mankind,', 'manly', 'many', 'marked\\nby', 'may', 'may\\nof', 'mean', 'measures.\\n\\nhe', 'men', 'men,\\nderiving', 'mercenaries\\nto', 'merciless', 'migration', 'military', 'mock', 'more', 'most', 'most', 'most', 'most', 'multitude', 'murders\\nwhich', 'must,', 'mutually', 'name,\\nand', 'nation.\\n\\nhe', 'native', 'naturalization', 'nature', \"nature's\", 'necessary', 'necessary\\nfor', 'necessity', 'necessity,', 'neglected', 'neighbouring\\nprovince,', 'new', 'new', 'new', 'not', 'now\\nthe', 'object', 'object', 'obstructed', 'obstructing', 'obtained;', 'of', 'of', 'of', 'of', 'of', 'of', 'of', 'of', 'of', 'of', 'of', 'of', 'of', 'of', 'of', 'of', 'of', 'of', 'of', 'of', 'of', 'of', 'of', 'of', 'of', 'of', 'of', 'of', 'of', 'of', 'of', 'of', 'of', 'of', 'of', 'of', 'of', 'of', 'of', 'of', 'of', 'of', 'of', 'of', 'of', 'of', 'of', 'of', 'of', 'of', 'of', 'of', 'of', 'of', 'of', 'of', 'of', 'of', 'of', 'of', 'of', 'of', 'of', 'of', 'of', 'of', 'of', 'of', 'of\\nand', 'of\\nlarge', 'of\\nofficers', 'of\\nthe', 'of\\ntheir', 'off', 'offences:\\n\\nfor', 'offices,', 'offices,', 'on', 'on', 'on', 'on', 'on', 'on', 'on', 'on', 'once\\nan', 'only.\\n\\nhe', 'operation\\ntill', 'opinions\\nof', 'opposing\\nwith', 'oppressions', 'or', 'or', 'organizing\\nits', 'other', 'other', 'other', 'others', 'others', 'others', 'ought', 'ought', 'our', 'our', 'our', 'our', 'our', 'our', 'our', 'our', 'our', 'our', 'our', 'our', 'our', 'our', 'our', 'our', 'our', 'our', 'our', 'our', 'our', 'our', 'our', 'our', 'our', 'our\\ncommon', 'out', 'out', 'over', 'over', 'own', 'paralleled', 'parts', 'pass', 'pass', 'pass', 'patient', 'payment', 'peace', 'peace,', 'peace,', 'people', 'people', 'people', 'people', 'people', 'people,', 'people,', 'people.\\n\\nhe', 'people.\\n\\nhe', 'people.\\n\\nnor', 'perfidy', 'petitioned', 'petitions', 'places', 'pledge\\nto', 'plundered', 'political', 'political', 'population', 'power', 'power', 'power.\\n\\nhe', 'powers', 'powers', 'powers', 'powers,\\nincapable', 'powers.\\n\\nhe', 'present', 'pressing', 'pretended', 'pretended', 'prevent', 'prince,', 'principles', 'protecting', 'protection', 'protection\\nand', 'prove', 'provide', 'providence,', 'prudence,', 'public', 'publish', 'punishment', 'purpose', 'purpose', 'pursuing', 'pursuit', 'quartering', 'raising', 'ravaged', 'records,', 'rectitude', 'redress\\nin', 'reduce\\nthem', 'refused', 'refused', 'refused', 'refusing', 'relinquish\\nthe', 'remaining', 'reminded', 'render', 'render', 'repeated', 'repeated', 'repeated\\ninjuries', 'repeatedly,', 'representation', 'representative', 'representatives', 'requires', 'respect', 'rest', 'returned', 'right', 'right', 'right', 'right', 'right', 'right\\ninestimable', 'right,', 'rights', 'rights,', 'rights,\\nthat', 'rule', 'rule', 'ruler\\nof', 'sacred', 'safety', 'salaries.\\n\\nhe', 'same', 'same\\nabsolute', 'savages,', 'scarcely', 'seas', 'seas\\nto', 'seas,', 'secure', 'security.\\n--such', 'seem', 'self-evident,', 'sent', 'separate', 'separation,', 'separation.\\n\\nwe', 'sexes', 'shall', 'should', 'should', 'should', 'should', 'shown,', 'so', 'so', 'sole', 'stage', 'standing', 'state', 'state\\nof', 'states', 'states', 'states', 'states,', 'states.', 'states:\\n\\nfor', 'states;\\nfor', 'states;\\nthat', 'station', 'subject', 'submitted', 'substance.\\n\\nhe', 'such', 'such', 'such', 'such', 'such', 'suffer,', 'sufferable,', 'sufferance', 'superior', 'support', 'supreme', 'suspended', 'suspended,\\nhe', 'suspending', 'swarms', 'system', 'systems', 'taken', 'taking', 'taxes', 'tenure\\nof', 'terms:', 'than', 'that', 'that', 'that', 'that', 'that', 'that', 'that', 'that', 'the', 'the', 'the', 'the', 'the', 'the', 'the', 'the', 'the', 'the', 'the', 'the', 'the', 'the', 'the', 'the', 'the', 'the', 'the', 'the', 'the', 'the', 'the', 'the', 'the', 'the', 'the', 'the', 'the', 'the', 'the', 'the', 'the', 'the', 'the', 'the', 'the', 'the', 'the', 'the', 'the', 'the', 'the', 'the', 'the', 'the', 'the', 'the', 'the', 'the', 'the', 'the', 'the', 'the', 'the', 'the', 'the', 'the', 'the', 'the', 'the', 'the', 'the', 'the', 'the', 'the', 'the', 'the', 'the', 'the', 'the', 'the\\nmost', 'their', 'their', 'their', 'their', 'their', 'their', 'their', 'their', 'their', 'their', 'their', 'their', 'their', 'their', 'their', 'their', 'their\\nlegislature', 'their\\npublic', 'them', 'them', 'them', 'them', 'them', 'them', 'them', 'them', 'them\\ninto', 'them,', 'them,', 'them,\\nas', 'them.\\n\\nhe', 'themselves', 'themselves', 'themselves\\ninvested', 'therefore,', 'therefore,\\nacquiesce', 'therein', 'these', 'these', 'these', 'these', 'these', 'these', 'these', 'these', 'these', 'these', 'these', 'these', 'these', 'they', 'they', 'they', 'they', 'they', 'they', 'they', 'things', 'thirteen', 'this', 'this', 'this,', 'those', 'throw\\noff', 'thus', 'ties', 'time', 'time', 'time', 'time', 'time,', 'times', 'to', 'to', 'to', 'to', 'to', 'to', 'to', 'to', 'to', 'to', 'to', 'to', 'to', 'to', 'to', 'to', 'to', 'to', 'to', 'to', 'to', 'to', 'to', 'to', 'to', 'to', 'to', 'to', 'to', 'to', 'to', 'to', 'to', 'to', 'to', 'to', 'to', 'to', 'to', 'to', 'to', 'to', 'to', 'to', 'to', 'to', 'to', 'to', 'to', 'to', 'to', 'to', 'to', 'to', 'to', 'to', 'to', 'to\\nlevy', 'together', 'too', 'totally', 'totally', 'towns,\\nand', 'trade', 'train', 'transient', 'transporting', 'transporting', 'trial', 'trial,', 'tried', 'troops', 'truths', 'tyranny', 'tyranny,', 'tyrant,', 'tyrants', 'unacknowledged', 'unalienable', 'unanimous', 'under', 'undistinguished', 'unfit', 'united', 'united', 'united', 'unless', 'unless', 'unusual,\\nuncomfortable,', 'unwarrantable', 'unworthy', 'us', 'us', 'us', 'us', 'us', 'us,', 'us,', 'us,', 'us.\\n\\nhe', 'us.\\nwe', 'us:\\n\\nfor', 'usurpations,', 'usurpations,', 'utterly', 'valuable', 'voice', 'waging', 'wanting', 'war', 'war,', 'war,', 'warfare,\\nis', 'warned', 'we', 'we', 'we', 'we', 'we', 'we', 'we', 'whatsoever.\\n\\nhe', 'when', 'when', 'whenever', 'whereby', 'which', 'which', 'which', 'which', 'which', 'which', 'which', 'which', 'which\\nimpel', 'while', 'wholesome', 'whose', 'whose', 'will', 'will', 'with', 'with', 'with', 'with', 'with', 'with', 'with', 'within.\\n\\nhe', 'without', 'without,', 'works', 'world', 'world.\\n\\nhe', 'world:\\n\\nfor', 'would', 'would']\n"
          ]
        }
      ],
      "source": [
        "sorted_words = lower_case.split(' ') # Split by spaces to get each word as a list item.\n",
        "print(sorted_words)\n",
        "sorted_words.sort()\n",
        "print(sorted_words)"
      ]
    },
    {
      "cell_type": "markdown",
      "metadata": {
        "id": "t6AmVo4oI_vQ"
      },
      "source": [
        "Pick a **random item** from a list. Use the `choice()` function from the `random` module.\n",
        "\n",
        "The list to pick from is passed in as an argument.\n",
        "\n",
        "The return value is the selected list item."
      ]
    },
    {
      "cell_type": "code",
      "execution_count": 57,
      "metadata": {
        "id": "0QMDUbg_I_vQ"
      },
      "outputs": [
        {
          "name": "stdout",
          "output_type": "stream",
          "text": [
            "['Sunday', 'Monday', 'Tuesday', 'Wednesday', 'Thursday', 'Friday', 'Saturday']\n",
            "Wednesday\n"
          ]
        }
      ],
      "source": [
        "# Choice returns a single item from a list\n",
        "print(day_list)\n",
        "picked_day = r.choice(day_list)\n",
        "print(picked_day)"
      ]
    },
    {
      "cell_type": "markdown",
      "metadata": {},
      "source": [
        "## Practice\n",
        "\n",
        "Randomize the numbers from 0 to 10 and print the resulting list. Then sort them back into numeric order and print the list."
      ]
    },
    {
      "cell_type": "code",
      "execution_count": 65,
      "metadata": {},
      "outputs": [
        {
          "name": "stdout",
          "output_type": "stream",
          "text": [
            "[7, 2, 4, 8, 3, 10, 1, 6, 5, 9, 0]\n",
            "[0, 1, 2, 3, 4, 5, 6, 7, 8, 9, 10]\n"
          ]
        }
      ],
      "source": [
        "import random as r\n",
        "numbers = [0, 1, 2, 3, 4, 5, 6, 7, 8, 9, 10]\n",
        "r.shuffle(numbers)\n",
        "print(numbers)\n",
        "# sort numbers\n",
        "numbers.sort()\n",
        "print(numbers)"
      ]
    },
    {
      "cell_type": "markdown",
      "metadata": {
        "id": "ROUqUNe1I_vS"
      },
      "source": [
        "## Editing lists\n",
        "\n",
        "**Note:** the order in which you run the cells makes a difference."
      ]
    },
    {
      "cell_type": "code",
      "execution_count": 60,
      "metadata": {
        "id": "hnkFHwxOI_vT"
      },
      "outputs": [
        {
          "name": "stdout",
          "output_type": "stream",
          "text": [
            "['apple', 'orange', 'banana', 'lemon', 'lime']\n"
          ]
        }
      ],
      "source": [
        "basket = ['apple', 'orange', 'banana', 'lemon', 'lime']\n",
        "print(basket)"
      ]
    },
    {
      "cell_type": "code",
      "execution_count": 61,
      "metadata": {
        "id": "aiOHmf4_I_vV"
      },
      "outputs": [
        {
          "name": "stdout",
          "output_type": "stream",
          "text": [
            "['apple', 'tangerine', 'banana', 'lemon', 'lime']\n"
          ]
        }
      ],
      "source": [
        "basket[1] = 'tangerine'\n",
        "print(basket)"
      ]
    },
    {
      "cell_type": "code",
      "execution_count": 62,
      "metadata": {
        "id": "wLKK56s3I_vX"
      },
      "outputs": [
        {
          "name": "stdout",
          "output_type": "stream",
          "text": [
            "['apple', 'tangerine', 'lemon', 'lime']\n"
          ]
        }
      ],
      "source": [
        "basket.remove('banana')\n",
        "print(basket)"
      ]
    },
    {
      "cell_type": "code",
      "execution_count": 66,
      "metadata": {
        "id": "VRsCWuFUI_vZ"
      },
      "outputs": [
        {
          "name": "stdout",
          "output_type": "stream",
          "text": [
            "['apple', 'tangerine', 'lemon', 'lime', 'durian']\n"
          ]
        }
      ],
      "source": [
        "basket.append('durian')\n",
        "print(basket)"
      ]
    },
    {
      "cell_type": "code",
      "execution_count": 67,
      "metadata": {
        "id": "RBKJSWFlI_vb"
      },
      "outputs": [
        {
          "name": "stdout",
          "output_type": "stream",
          "text": [
            "['tangerine', 'lemon', 'lime', 'durian']\n"
          ]
        }
      ],
      "source": [
        "del basket[0]\n",
        "print(basket)"
      ]
    },
    {
      "cell_type": "code",
      "execution_count": 68,
      "metadata": {
        "id": "wzm_AVAvI_vd"
      },
      "outputs": [
        {
          "name": "stdout",
          "output_type": "stream",
          "text": [
            "['sandwich', 'cookie', 'tangerine', 'lemon', 'lime', 'durian']\n"
          ]
        }
      ],
      "source": [
        "lunch_bag = ['sandwich', 'cookie']\n",
        "lunch = lunch_bag + basket\n",
        "print(lunch)"
      ]
    },
    {
      "cell_type": "markdown",
      "metadata": {},
      "source": [
        "## Practice\n",
        "\n",
        "Add `hamster` to the end of the list. Then remove `cat` from the list."
      ]
    },
    {
      "cell_type": "code",
      "execution_count": null,
      "metadata": {},
      "outputs": [],
      "source": [
        "my_pets = ['snake', 'cat', 'dog', 'fish']"
      ]
    },
    {
      "cell_type": "markdown",
      "metadata": {
        "id": "UMgQ41H41WwK"
      },
      "source": [
        "# Optional content\n",
        "\n",
        "Not required for class, but goes with the optional videos"
      ]
    },
    {
      "cell_type": "markdown",
      "metadata": {
        "id": "EujUXIgavPVD"
      },
      "source": [
        "## os module\n",
        "\n",
        "[documetation](https://docs.python.org/3/library/os.html)"
      ]
    },
    {
      "cell_type": "code",
      "execution_count": null,
      "metadata": {
        "id": "aBciKXXtvPVD"
      },
      "outputs": [],
      "source": [
        "import os"
      ]
    },
    {
      "cell_type": "code",
      "execution_count": null,
      "metadata": {
        "id": "loulrm52vPVG"
      },
      "outputs": [],
      "source": [
        "working_directory = os.getcwd()\n",
        "print(working_directory)\n",
        "print(os.listdir()) # no argument gets working directory\n",
        "print(os.listdir(working_directory + '/Documents'))"
      ]
    },
    {
      "cell_type": "markdown",
      "metadata": {
        "id": "QaSIly4ZvPVN"
      },
      "source": [
        "## datetime module\n",
        "\n",
        "The `datetime` module is part of the Standard Library.\n",
        "\n",
        "[documentation](https://docs.python.org/3/library/datetime.html)\n",
        "\n",
        "We introduce two new kinds of objects: date and datetime."
      ]
    },
    {
      "cell_type": "code",
      "execution_count": null,
      "metadata": {
        "id": "fajikpxjvPVN"
      },
      "outputs": [],
      "source": [
        "import datetime"
      ]
    },
    {
      "cell_type": "code",
      "execution_count": null,
      "metadata": {
        "id": "gz4tO6EavPVP"
      },
      "outputs": [],
      "source": [
        "# Instantiate two date objects, numeric arguments required.\n",
        "sep_11 = datetime.date(2001,9,11)\n",
        "this_day = datetime.date.today() # method sets the date value as today\n",
        "print(type(sep_11))"
      ]
    },
    {
      "cell_type": "code",
      "execution_count": null,
      "metadata": {
        "id": "UpJ-uTNYvPVR"
      },
      "outputs": [],
      "source": [
        "print(sep_11.isoformat()) # use ISO 8601 format\n",
        "print(sep_11.weekday()) # numeric value; Monday is 0\n",
        "print(sep_11.strftime('%A')) # '%A' is a string format code for the day\n",
        "print()\n",
        "print(this_day.isoformat())\n",
        "print(this_day.weekday())\n",
        "print(this_day.strftime('%A'))"
      ]
    },
    {
      "cell_type": "code",
      "execution_count": null,
      "metadata": {
        "id": "eI1w_YrIvPVU"
      },
      "outputs": [],
      "source": [
        "# Instantiate a dateTime object\n",
        "# The dateTime will be expressed as Universal Coordinated Time (UTC)\n",
        "# a.k.a. Greenwich Mean Time (GMT)\n",
        "right_now = datetime.datetime.utcnow()\n",
        "print(type(right_now))"
      ]
    },
    {
      "cell_type": "code",
      "execution_count": null,
      "metadata": {
        "id": "EUIys1y0vPVX"
      },
      "outputs": [],
      "source": [
        "print(right_now.isoformat())\n",
        "# See the datetime module documentation for the string format codes\n",
        "print(right_now.strftime('%B %d, %Y %I:%M %p'))"
      ]
    }
  ],
  "metadata": {
    "colab": {
      "provenance": []
    },
    "kernelspec": {
      "display_name": "Python 3",
      "language": "python",
      "name": "python3"
    },
    "language_info": {
      "codemirror_mode": {
        "name": "ipython",
        "version": 3
      },
      "file_extension": ".py",
      "mimetype": "text/x-python",
      "name": "python",
      "nbconvert_exporter": "python",
      "pygments_lexer": "ipython3",
      "version": "3.12.2"
    }
  },
  "nbformat": 4,
  "nbformat_minor": 0
}
