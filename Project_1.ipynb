{
 "cells": [
  {
   "cell_type": "code",
   "execution_count": 3,
   "metadata": {},
   "outputs": [],
   "source": [
    "import requests\n",
    "import pandas as pd\n",
    "import matplotlib.pyplot as plt\n",
    "import numpy as np"
   ]
  },
  {
   "cell_type": "markdown",
   "metadata": {},
   "source": [
    "Scatterplot of Mean Precipitation by Year"
   ]
  },
  {
   "cell_type": "code",
   "execution_count": 6,
   "metadata": {},
   "outputs": [
    {
     "data": {
      "text/html": [
       "<div>\n",
       "<style scoped>\n",
       "    .dataframe tbody tr th:only-of-type {\n",
       "        vertical-align: middle;\n",
       "    }\n",
       "\n",
       "    .dataframe tbody tr th {\n",
       "        vertical-align: top;\n",
       "    }\n",
       "\n",
       "    .dataframe thead th {\n",
       "        text-align: right;\n",
       "    }\n",
       "</style>\n",
       "<table border=\"1\" class=\"dataframe\">\n",
       "  <thead>\n",
       "    <tr style=\"text-align: right;\">\n",
       "      <th></th>\n",
       "      <th>Year</th>\n",
       "      <th>Avg Precipitation</th>\n",
       "    </tr>\n",
       "  </thead>\n",
       "  <tbody>\n",
       "    <tr>\n",
       "      <th>0</th>\n",
       "      <td>1896</td>\n",
       "      <td>25.187500</td>\n",
       "    </tr>\n",
       "    <tr>\n",
       "      <th>1</th>\n",
       "      <td>1897</td>\n",
       "      <td>19.041667</td>\n",
       "    </tr>\n",
       "    <tr>\n",
       "      <th>2</th>\n",
       "      <td>1898</td>\n",
       "      <td>16.591667</td>\n",
       "    </tr>\n",
       "    <tr>\n",
       "      <th>3</th>\n",
       "      <td>1899</td>\n",
       "      <td>11.675000</td>\n",
       "    </tr>\n",
       "    <tr>\n",
       "      <th>4</th>\n",
       "      <td>1900</td>\n",
       "      <td>10.791667</td>\n",
       "    </tr>\n",
       "  </tbody>\n",
       "</table>\n",
       "</div>"
      ],
      "text/plain": [
       "   Year  Avg Precipitation\n",
       "0  1896          25.187500\n",
       "1  1897          19.041667\n",
       "2  1898          16.591667\n",
       "3  1899          11.675000\n",
       "4  1900          10.791667"
      ]
     },
     "execution_count": 6,
     "metadata": {},
     "output_type": "execute_result"
    }
   ],
   "source": [
    "climate_data = pd.read_csv('https://raw.githubusercontent.com/HeardLibrary/digital-scholarship/master/data/codegraf/mesa2880172.csv')\n",
    "climate_data['YEAR'] = climate_data['DATE'].str.slice(0, 4)\n",
    "climate_data['MONTH'] = climate_data['DATE'].str.slice(5, 6)\n",
    "\n",
    "all_years = range(1896, 2018)\n",
    "prcp_means = []\n",
    "for years in all_years:\n",
    "    year_rows = climate_data[climate_data['YEAR'] == str(years)]\n",
    "    year_avg_prcp = year_rows['PRCP'].mean()\n",
    "    if not np.isnan(year_avg_prcp):\n",
    "        year_dict = {'Year': years, 'Avg Precipitation': year_avg_prcp}\n",
    "        prcp_means.append(year_dict)\n",
    "prcp_means_df = pd.DataFrame(prcp_means)\n",
    "prcp_means_df.head()"
   ]
  },
  {
   "cell_type": "code",
   "execution_count": 10,
   "metadata": {},
   "outputs": [
    {
     "data": {
      "text/plain": [
       "[<matplotlib.lines.Line2D at 0x18756708230>]"
      ]
     },
     "execution_count": 10,
     "metadata": {},
     "output_type": "execute_result"
    },
    {
     "data": {
      "image/png": "[encoded data removed]",
      "text/plain": [
       "<Figure size 640x480 with 1 Axes>"
      ]
     },
     "metadata": {},
     "output_type": "display_data"
    }
   ],
   "source": [
    "fig = plt.figure()\n",
    "ax = fig.add_subplot(1, 1, 1)\n",
    "ax.scatter(prcp_means_df['Year'], prcp_means_df['Avg Precipitation'], color= 'navy')\n",
    "\n",
    "ax.set_xlabel('Year')\n",
    "ax.set_ylabel('Average Precipitation (mm)')\n",
    "# add a blue trendline to my data\n",
    "z = np.polyfit(prcp_means_df['Year'], prcp_means_df['Avg Precipitation'], 1)\n",
    "p = np.poly1d(z)\n",
    "ax.plot(prcp_means_df['Year'], p(prcp_means_df['Year']), color='lime')\n"
   ]
  },
  {
   "cell_type": "markdown",
   "metadata": {},
   "source": [
    "Scatterplot of Mean Temperature by Year"
   ]
  },
  {
   "cell_type": "code",
   "execution_count": 13,
   "metadata": {},
   "outputs": [
    {
     "data": {
      "text/html": [
       "<div>\n",
       "<style scoped>\n",
       "    .dataframe tbody tr th:only-of-type {\n",
       "        vertical-align: middle;\n",
       "    }\n",
       "\n",
       "    .dataframe tbody tr th {\n",
       "        vertical-align: top;\n",
       "    }\n",
       "\n",
       "    .dataframe thead th {\n",
       "        text-align: right;\n",
       "    }\n",
       "</style>\n",
       "<table border=\"1\" class=\"dataframe\">\n",
       "  <thead>\n",
       "    <tr style=\"text-align: right;\">\n",
       "      <th></th>\n",
       "      <th>Year</th>\n",
       "      <th>Avg Temperature</th>\n",
       "    </tr>\n",
       "  </thead>\n",
       "  <tbody>\n",
       "    <tr>\n",
       "      <th>0</th>\n",
       "      <td>1896</td>\n",
       "      <td>21.437500</td>\n",
       "    </tr>\n",
       "    <tr>\n",
       "      <th>1</th>\n",
       "      <td>1897</td>\n",
       "      <td>20.150000</td>\n",
       "    </tr>\n",
       "    <tr>\n",
       "      <th>2</th>\n",
       "      <td>1898</td>\n",
       "      <td>20.225000</td>\n",
       "    </tr>\n",
       "    <tr>\n",
       "      <th>3</th>\n",
       "      <td>1899</td>\n",
       "      <td>19.491667</td>\n",
       "    </tr>\n",
       "    <tr>\n",
       "      <th>4</th>\n",
       "      <td>1900</td>\n",
       "      <td>20.691667</td>\n",
       "    </tr>\n",
       "  </tbody>\n",
       "</table>\n",
       "</div>"
      ],
      "text/plain": [
       "   Year  Avg Temperature\n",
       "0  1896        21.437500\n",
       "1  1897        20.150000\n",
       "2  1898        20.225000\n",
       "3  1899        19.491667\n",
       "4  1900        20.691667"
      ]
     },
     "execution_count": 13,
     "metadata": {},
     "output_type": "execute_result"
    }
   ],
   "source": [
    "climate_data = pd.read_csv('https://raw.githubusercontent.com/HeardLibrary/digital-scholarship/master/data/codegraf/mesa2880172.csv')\n",
    "climate_data['YEAR'] = climate_data['DATE'].str.slice(0, 4)\n",
    "climate_data['MONTH'] = climate_data['DATE'].str.slice(5, 6)\n",
    "\n",
    "all_years = range(1896, 2018)\n",
    "temp_means = []\n",
    "for years in all_years:\n",
    "    year_rows = climate_data[climate_data['YEAR'] == str(years)]\n",
    "    year_avg_temp = year_rows['TAVG'].mean()\n",
    "    if not np.isnan(year_avg_temp):\n",
    "        year_dict = {'Year': years, 'Avg Temperature': year_avg_temp}\n",
    "        temp_means.append(year_dict)\n",
    "temp_means_df = pd.DataFrame(temp_means)\n",
    "temp_means_df.head()"
   ]
  },
  {
   "cell_type": "code",
   "execution_count": 16,
   "metadata": {},
   "outputs": [
    {
     "data": {
      "text/plain": [
       "[<matplotlib.lines.Line2D at 0x187582a9d30>]"
      ]
     },
     "execution_count": 16,
     "metadata": {},
     "output_type": "execute_result"
    },
    {
     "data": {
      "image/png": "[encoded data removed]",
      "text/plain": [
       "<Figure size 640x480 with 1 Axes>"
      ]
     },
     "metadata": {},
     "output_type": "display_data"
    }
   ],
   "source": [
    "fig = plt.figure()\n",
    "ax = fig.add_subplot(1, 1, 1)\n",
    "ax.scatter(temp_means_df['Year'], temp_means_df['Avg Temperature'], color= 'orange')\n",
    "\n",
    "ax.set_xlabel('Year')\n",
    "ax.set_ylabel('Average Temperature (C)')\n",
    "\n",
    "z = np.polyfit(temp_means_df['Year'], temp_means_df['Avg Temperature'], 1)\n",
    "p = np.poly1d(z)\n",
    "ax.plot(temp_means_df['Year'], p(temp_means_df['Year']), color='red')"
   ]
  },
  {
   "cell_type": "markdown",
   "metadata": {},
   "source": [
    "Bar Plot for Mean Precipitation by Month"
   ]
  },
  {
   "cell_type": "code",
   "execution_count": 33,
   "metadata": {},
   "outputs": [
    {
     "data": {
      "text/html": [
       "<div>\n",
       "<style scoped>\n",
       "    .dataframe tbody tr th:only-of-type {\n",
       "        vertical-align: middle;\n",
       "    }\n",
       "\n",
       "    .dataframe tbody tr th {\n",
       "        vertical-align: top;\n",
       "    }\n",
       "\n",
       "    .dataframe thead th {\n",
       "        text-align: right;\n",
       "    }\n",
       "</style>\n",
       "<table border=\"1\" class=\"dataframe\">\n",
       "  <thead>\n",
       "    <tr style=\"text-align: right;\">\n",
       "      <th></th>\n",
       "      <th>Year</th>\n",
       "      <th>Month</th>\n",
       "      <th>Avg Precipitation</th>\n",
       "    </tr>\n",
       "  </thead>\n",
       "  <tbody>\n",
       "    <tr>\n",
       "      <th>0</th>\n",
       "      <td>1896</td>\n",
       "      <td>1</td>\n",
       "      <td>31.933333</td>\n",
       "    </tr>\n",
       "    <tr>\n",
       "      <th>1</th>\n",
       "      <td>1897</td>\n",
       "      <td>1</td>\n",
       "      <td>3.366667</td>\n",
       "    </tr>\n",
       "    <tr>\n",
       "      <th>2</th>\n",
       "      <td>1898</td>\n",
       "      <td>1</td>\n",
       "      <td>26.133333</td>\n",
       "    </tr>\n",
       "    <tr>\n",
       "      <th>3</th>\n",
       "      <td>1899</td>\n",
       "      <td>1</td>\n",
       "      <td>7.000000</td>\n",
       "    </tr>\n",
       "    <tr>\n",
       "      <th>4</th>\n",
       "      <td>1900</td>\n",
       "      <td>1</td>\n",
       "      <td>21.433333</td>\n",
       "    </tr>\n",
       "  </tbody>\n",
       "</table>\n",
       "</div>"
      ],
      "text/plain": [
       "   Year  Month  Avg Precipitation\n",
       "0  1896      1          31.933333\n",
       "1  1897      1           3.366667\n",
       "2  1898      1          26.133333\n",
       "3  1899      1           7.000000\n",
       "4  1900      1          21.433333"
      ]
     },
     "execution_count": 33,
     "metadata": {},
     "output_type": "execute_result"
    }
   ],
   "source": [
    "climate_data = pd.read_csv('https://raw.githubusercontent.com/HeardLibrary/digital-scholarship/master/data/codegraf/mesa2880172.csv')\n",
    "climate_data['YEAR'] = climate_data['DATE'].str.slice(0, 4)\n",
    "climate_data['MONTH'] = climate_data['DATE'].str.slice(5, 6)\n",
    "\n",
    "all_years = range(1896, 2018)\n",
    "all_months = range(1, 13)  # Months from 1 (January) to 12 (December)\n",
    "prcp_means = []\n",
    "\n",
    "for year in all_years:\n",
    "    for month in all_months:\n",
    "        month_rows = climate_data[(climate_data['YEAR'] == str(year)) & (climate_data['MONTH'] == str(month))]\n",
    "        month_avg_prcp = month_rows['PRCP'].mean()\n",
    "        if not np.isnan(month_avg_prcp):\n",
    "            month_dict = {'Year': year, 'Month': month, 'Avg Precipitation': month_avg_prcp}\n",
    "            prcp_means.append(month_dict)\n",
    "\n",
    "prcp_means_df = pd.DataFrame(prcp_means)\n",
    "prcp_means_df.head()"
   ]
  },
  {
   "cell_type": "code",
   "execution_count": 35,
   "metadata": {},
   "outputs": [
    {
     "data": {
      "image/png": "[encoded data removed]",
      "text/plain": [
       "<Figure size 640x480 with 1 Axes>"
      ]
     },
     "metadata": {},
     "output_type": "display_data"
    }
   ],
   "source": [
    "monthly_avg_prcp = prcp_means_df.groupby('Month')['Avg Precipitation'].mean()\n",
    "\n",
    "fig = plt.figure()\n",
    "ax = fig.add_subplot(1, 1, 1)\n",
    "ax.bar(monthly_avg_prcp.index, monthly_avg_prcp, color='pink')\n",
    "\n",
    "ax.set_xlabel('Month')\n",
    "ax.set_ylabel('Average Precipitation (mm)')\n",
    "plt.show()"
   ]
  }
 ],
 "metadata": {
  "kernelspec": {
   "display_name": "Python 3",
   "language": "python",
   "name": "python3"
  },
  "language_info": {
   "codemirror_mode": {
    "name": "ipython",
    "version": 3
   },
   "file_extension": ".py",
   "mimetype": "text/x-python",
   "name": "python",
   "nbconvert_exporter": "python",
   "pygments_lexer": "ipython3",
   "version": "3.12.2"
  }
 },
 "nbformat": 4,
 "nbformat_minor": 2
}
